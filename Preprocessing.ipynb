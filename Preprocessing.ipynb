{
 "cells": [
  {
   "cell_type": "code",
   "execution_count": 8,
   "metadata": {},
   "outputs": [],
   "source": [
    "import hashlib\n",
    "\n",
    "completed_lines_hash = set()\n",
    "\n",
    "output_file = open(\"data.txt\", \"w\")\n",
    "\n",
    "for line in open(\"SMILESdata.txt\", \"r\"):\n",
    "  \n",
    "  hashValue = hashlib.md5(line.rstrip().encode('utf-8')).hexdigest()\n",
    "  \n",
    "  if hashValue not in completed_lines_hash:\n",
    "    output_file.write(line)\n",
    "    completed_lines_hash.add(hashValue)\n",
    "\n",
    "output_file.close()\n",
    "\n",
    "#import codecs\n",
    "#unique = set()\n",
    "#any(unique.update(line) for line in codecs.open(filename, encoding=\"UTF-8\"))\n",
    "#unique.difference_update('!@#.')\n",
    "#unique_char_count = len(unique)\n",
    "\n",
    "#Sci Kit Learn for One Hot Encoding"
   ]
  },
  {
   "cell_type": "code",
   "execution_count": 11,
   "metadata": {},
   "outputs": [
    {
     "name": "stdout",
     "output_type": "stream",
     "text": [
      "55\n",
      "32178106\n",
      "['1', '2', ')', 'H', '(', '8', 'e', 'u', 'M', 'S', 'N', 'a', 's', '\\n', '[', '@', '6', ']', '0', '-', '7', '\\\\', 'C', 'n', 'P', 'L', 'g', 'Z', '9', '#', 'A', 'V', '.', '+', 'r', 'b', 'I', '/', 't', '5', '3', 'O', 'l', '%', 'B', 'o', 'R', '4', '=', 'c', 'K', 'T', 'p', 'F', 'i']\n"
     ]
    }
   ],
   "source": [
    "data = open('data.txt', 'r').read() # should be simple plain text file\n",
    "chars = list(set(data))\n",
    "data_size, vocab_size = len(data), len(chars)\n",
    "print(vocab_size)\n",
    "print(data_size)\n",
    "print(chars)\n",
    "\n",
    "char_to_ix = { ch:i for i,ch in enumerate(chars) }\n",
    "inputs = [char_to_ix[c] for c in data[i*seq_length:(i+1)*seq_length]"
   ]
  },
  {
   "cell_type": "code",
   "execution_count": null,
   "metadata": {},
   "outputs": [],
   "source": []
  }
 ],
 "metadata": {
  "kernelspec": {
   "display_name": "Python 3",
   "language": "python",
   "name": "python3"
  },
  "language_info": {
   "codemirror_mode": {
    "name": "ipython",
    "version": 3
   },
   "file_extension": ".py",
   "mimetype": "text/x-python",
   "name": "python",
   "nbconvert_exporter": "python",
   "pygments_lexer": "ipython3",
   "version": "3.5.6"
  }
 },
 "nbformat": 4,
 "nbformat_minor": 2
}
