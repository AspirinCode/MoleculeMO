{
 "cells": [
  {
   "cell_type": "code",
   "execution_count": 43,
   "metadata": {},
   "outputs": [],
   "source": [
    "#Ensure all SMILES are unique\n",
    "\n",
    "import hashlib\n",
    "\n",
    "completed_lines_hash = set()\n",
    "\n",
    "new = open(\"dataUnique.txt\", \"w\")\n",
    "\n",
    "for line in open(\"data.txt\", \"r\"):\n",
    "  \n",
    "  hashValue = hashlib.md5(line.rstrip().encode('utf-8')).hexdigest()\n",
    "  \n",
    "  if hashValue not in completed_lines_hash:\n",
    "    new.write(line)\n",
    "    completed_lines_hash.add(hashValue)\n",
    "\n",
    "new.close()"
   ]
  },
  {
   "cell_type": "code",
   "execution_count": 44,
   "metadata": {},
   "outputs": [],
   "source": [
    "#Remove all SMILES greater than 73 characters long\n",
    "\n",
    "data = open(\"dataUnique.txt\")\n",
    "\n",
    "new = open(\"data73.txt\", \"w\")\n",
    "\n",
    "for line in data:         \n",
    "    if len(line) < 74:\n",
    "        new.write(line)\n",
    "\n",
    "data.close()\n",
    "new.close()"
   ]
  },
  {
   "cell_type": "code",
   "execution_count": 45,
   "metadata": {},
   "outputs": [],
   "source": [
    "#Pad SMILES with start character\n",
    "\n",
    "data = open(\"data73.txt\", \"r\")\n",
    "\n",
    "new = open(\"datalpad.txt\", \"w\")\n",
    "\n",
    "for line in data.readlines():\n",
    "    line = line.rjust(len(line)+1, \"{\")\n",
    "    new.write(line)\n",
    "\n",
    "data.close()"
   ]
  },
  {
   "cell_type": "code",
   "execution_count": 49,
   "metadata": {},
   "outputs": [],
   "source": [
    "#Pad SMILES with end characters\n",
    "\n",
    "data = open(\"datalpad.txt\")\n",
    "\n",
    "new = open(\"datapad.txt\", \"w\")\n",
    "\n",
    "for line in data.readlines():\n",
    "    line = line[:-1]\n",
    "    line = line.ljust(75, \"}\")\n",
    "    line = line.ljust(len(line)+1, \"\\n\")\n",
    "    new.write(line)\n",
    "    \n",
    "data.close()\n",
    "new.close()"
   ]
  },
  {
   "cell_type": "code",
   "execution_count": 50,
   "metadata": {},
   "outputs": [
    {
     "name": "stdout",
     "output_type": "stream",
     "text": [
      "55\n",
      "34131372\n",
      "['A', '=', 'i', 'Z', '5', 'R', 'T', 'o', 'H', '7', 'I', '+', 'L', '/', '6', 'B', '@', '4', 'b', 'c', 'l', '#', 'p', 'S', 'g', 'P', ']', '}', ')', 'N', '8', 't', '(', '\\\\', 'u', '.', 'r', 'n', '9', '-', '\\n', 's', 'O', '3', 'a', 'K', 'C', 'e', 'V', '1', 'F', '2', '[', 'M', '{']\n"
     ]
    }
   ],
   "source": [
    "import numpy as np\n",
    "\n",
    "data = open('datapad.txt', 'r').read()\n",
    "chars = list(set(data))\n",
    "data_size, vocab_size = len(data), len(chars)\n",
    "print(vocab_size)\n",
    "print(data_size)\n",
    "print(chars)\n",
    "\n",
    "char_to_ix = {ch:i for i,ch in enumerate(chars)}\n",
    "\n",
    "#encoding = np.zeroes[]\n",
    "#for char in data:\n",
    "#    i = char_to_ix[char]\n",
    "    "
   ]
  },
  {
   "cell_type": "code",
   "execution_count": null,
   "metadata": {},
   "outputs": [],
   "source": []
  }
 ],
 "metadata": {
  "kernelspec": {
   "display_name": "Python 3",
   "language": "python",
   "name": "python3"
  },
  "language_info": {
   "codemirror_mode": {
    "name": "ipython",
    "version": 3
   },
   "file_extension": ".py",
   "mimetype": "text/x-python",
   "name": "python",
   "nbconvert_exporter": "python",
   "pygments_lexer": "ipython3",
   "version": "3.5.6"
  }
 },
 "nbformat": 4,
 "nbformat_minor": 2
}
