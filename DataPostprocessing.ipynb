{
 "cells": [
  {
   "cell_type": "code",
   "execution_count": 39,
   "metadata": {},
   "outputs": [],
   "source": [
    "import rdkit as rd\n",
    "from rdkit import Chem"
   ]
  },
  {
   "cell_type": "code",
   "execution_count": 40,
   "metadata": {},
   "outputs": [],
   "source": [
    "#Determines if SMILES is valid or not\n",
    "def is_valid(smiles):\n",
    "    \n",
    "    mol = Chem.MolFromSmiles(smiles)\n",
    "\n",
    "    #Returns True if SMILES is valid, returns False if SMILES is invalid\n",
    "    return smiles != '' and mol is not None and mol.GetNumAtoms() > 0"
   ]
  },
  {
   "cell_type": "code",
   "execution_count": 41,
   "metadata": {},
   "outputs": [],
   "source": [
    "import rdkit as rd\n",
    "from rdkit import Chem\n",
    "\n",
    "#Number of molecules generated\n",
    "num_smiles_mols = 0\n",
    "\n",
    "#Number of valid molecules generated\n",
    "num_valid = 0\n",
    "\n",
    "#Read in data file line by line\n",
    "for line in open(\"generatedmols.txt\", \"r\"):\n",
    "    \n",
    "    #Remove \\n character\n",
    "    smiles = line.replace(\"\\n\", \"\")\n",
    "\n",
    "    #Increment number of valid molecules if SMILES is valid\n",
    "    if(is_valid(smiles)==True):\n",
    "        num_valid += 1\n",
    "    \n",
    "    #Increment total number of SMILES generated\n",
    "    num_smiles_mols += 1"
   ]
  },
  {
   "cell_type": "code",
   "execution_count": 42,
   "metadata": {},
   "outputs": [
    {
     "name": "stdout",
     "output_type": "stream",
     "text": [
      "Total number of SMILES generated:201\n",
      "Number of valid molecules: 171\n",
      "Model accuracy: 85.07% of generated SMILES are valid molecules\n"
     ]
    }
   ],
   "source": [
    "print(\"Total number of SMILES generated:\" + str(num_gen_mols))\n",
    "print(\"Number of valid molecules: \" + str(num_valid))\n",
    "print(\"Model accuracy: {:0.2f}\".format(100 * num_valid/num_gen_mols) + \"% of generated SMILES are valid molecules\")"
   ]
  },
  {
   "cell_type": "code",
   "execution_count": null,
   "metadata": {},
   "outputs": [],
   "source": []
  }
 ],
 "metadata": {
  "kernelspec": {
   "display_name": "Python 3",
   "language": "python",
   "name": "python3"
  },
  "language_info": {
   "codemirror_mode": {
    "name": "ipython",
    "version": 3
   },
   "file_extension": ".py",
   "mimetype": "text/x-python",
   "name": "python",
   "nbconvert_exporter": "python",
   "pygments_lexer": "ipython3",
   "version": "3.5.6"
  }
 },
 "nbformat": 4,
 "nbformat_minor": 2
}
