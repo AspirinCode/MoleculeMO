{
 "cells": [
  {
   "cell_type": "code",
   "execution_count": 163,
   "metadata": {},
   "outputs": [],
   "source": [
    "import hashlib\n",
    "import rdkit as rd\n",
    "from rdkit import Chem"
   ]
  },
  {
   "cell_type": "code",
   "execution_count": 164,
   "metadata": {},
   "outputs": [],
   "source": [
    "#Determines if SMILES is valid or not\n",
    "def is_valid(smiles):\n",
    "    \n",
    "    mol = Chem.MolFromSmiles(smiles)\n",
    "\n",
    "    #Returns True if SMILES is valid, returns False if SMILES is invalid\n",
    "    return smiles != '' and mol is not None and mol.GetNumAtoms() > 0"
   ]
  },
  {
   "cell_type": "code",
   "execution_count": 165,
   "metadata": {},
   "outputs": [],
   "source": [
    "#Number of characters generated\n",
    "num_characters = 0\n",
    "\n",
    "#Number of molecules generated\n",
    "num_smiles = 0\n",
    "\n",
    "#Number of unique SMILES\n",
    "num_unq_mols = 0\n",
    "\n",
    "#Number of unique SMILES that aren't in the training data\n",
    "num_mols = 0\n",
    "\n",
    "#Number of valid molecules that aren't in the training data generated\n",
    "num_valid = 0\n",
    "\n",
    "#List of smiles in file, to make sure smiles are unique\n",
    "smileslist = []"
   ]
  },
  {
   "cell_type": "code",
   "execution_count": 166,
   "metadata": {
    "scrolled": true
   },
   "outputs": [],
   "source": [
    "#Training data\n",
    "training_data = list(open(\"smiles.txt\", \"r\"))\n",
    "\n",
    "#File with unique generated SMILES that aren't in the training data\n",
    "generatedmols = open(\"generatedmols.txt\", \"w\")\n",
    "\n",
    "#Read in data file line by line\n",
    "for line in open(\"generatedsmiles.txt\", \"r\"):\n",
    "    \n",
    "    #Ensure molecules are unique\n",
    "    if line not in smileslist:\n",
    "        \n",
    "        smileslist.append(line)\n",
    "        \n",
    "        num_unq_mols += 1\n",
    "\n",
    "        #Ensure smiles aren't in training data\n",
    "        if line not in training_data:  \n",
    "\n",
    "            #Remove \\n character, remove G character\n",
    "            smiles = line.replace(\"\\n\", \"\").replace(\"G\", \"\")\n",
    "            \n",
    "            #Increment number of molecules generated\n",
    "            num_mols += 1\n",
    "\n",
    "            #Ensure smiles are valid\n",
    "            if(is_valid(smiles) == True):\n",
    "            \n",
    "                #Copy over SMILES satisfying requirements\n",
    "                generatedmols.write(line.replace(\"G\", \"\"))\n",
    "                \n",
    "                #Increment number of valid molecules generated\n",
    "                num_valid += 1\n",
    "                \n",
    "    #Increment total number of SMILES generated\n",
    "    num_smiles += 1\n",
    "    \n",
    "    #Add length of line to total number of characters\n",
    "    num_characters += len(line)"
   ]
  },
  {
   "cell_type": "code",
   "execution_count": 167,
   "metadata": {},
   "outputs": [
    {
     "name": "stdout",
     "output_type": "stream",
     "text": [
      "Number of characters generated: 25048\n",
      "Number of molecules generated: 513\n",
      "Number of unique molecules generated: 252\n",
      "Number of novel and unique molecules generated: 180\n",
      "Number of novel, unique, and valid molecules generated: 102\n"
     ]
    }
   ],
   "source": [
    "print(\"Number of characters generated: \" + str(num_characters))\n",
    "print(\"Number of molecules generated: \" + str(num_smiles))\n",
    "print(\"Number of unique molecules generated: \" + str(num_unq_mols))\n",
    "print(\"Number of novel and unique molecules generated: \" + str(num_mols))\n",
    "print(\"Number of novel, unique, and valid molecules generated: \" + str(num_valid))"
   ]
  },
  {
   "cell_type": "code",
   "execution_count": null,
   "metadata": {},
   "outputs": [],
   "source": []
  }
 ],
 "metadata": {
  "kernelspec": {
   "display_name": "Python 3",
   "language": "python",
   "name": "python3"
  },
  "language_info": {
   "codemirror_mode": {
    "name": "ipython",
    "version": 3
   },
   "file_extension": ".py",
   "mimetype": "text/x-python",
   "name": "python",
   "nbconvert_exporter": "python",
   "pygments_lexer": "ipython3",
   "version": "3.5.6"
  }
 },
 "nbformat": 4,
 "nbformat_minor": 2
}
