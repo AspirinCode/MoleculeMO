{
 "cells": [
  {
   "cell_type": "code",
   "execution_count": 26,
   "metadata": {},
   "outputs": [],
   "source": [
    "import hashlib\n",
    "import rdkit as rd\n",
    "from rdkit import Chem"
   ]
  },
  {
   "cell_type": "code",
   "execution_count": 27,
   "metadata": {},
   "outputs": [],
   "source": [
    "#Determines if SMILES is valid or not\n",
    "def is_valid(smiles):\n",
    "    \n",
    "    mol = Chem.MolFromSmiles(smiles)\n",
    "\n",
    "    #Returns True if SMILES is valid, returns False if SMILES is invalid\n",
    "    return smiles != '' and mol is not None and mol.GetNumAtoms() > 0"
   ]
  },
  {
   "cell_type": "code",
   "execution_count": 28,
   "metadata": {},
   "outputs": [],
   "source": [
    "completed_lines_hash = set()\n",
    "\n",
    "#Number of molecules generated\n",
    "num_smiles_mols = 0\n",
    "\n",
    "#Number of valid molecules generated\n",
    "num_valid = 0\n",
    "\n",
    "#Read in data file line by line\n",
    "for line in open(\"generatedmols.txt\", \"r\"):\n",
    "    \n",
    "    #Ensure all smiles in original data file are unique\n",
    "    hashValue = hashlib.md5(line.rstrip().encode('utf-8')).hexdigest()\n",
    "  \n",
    "    if hashValue not in completed_lines_hash:\n",
    "        completed_lines_hash.add(hashValue)\n",
    "    \n",
    "        #Remove \\n character\n",
    "        smiles = line.replace(\"\\n\", \"\")\n",
    "\n",
    "        #Increment number of valid molecules if SMILES is valid\n",
    "        if(is_valid(smiles)==True):\n",
    "            num_valid += 1\n",
    "    \n",
    "        #Increment total number of SMILES generated\n",
    "        num_smiles_mols += 1"
   ]
  },
  {
   "cell_type": "code",
   "execution_count": 29,
   "metadata": {},
   "outputs": [
    {
     "name": "stdout",
     "output_type": "stream",
     "text": [
      "Total number of SMILES generated:156\n",
      "Number of valid molecules: 112\n",
      "Model accuracy: 71.79% of generated SMILES are valid molecules\n"
     ]
    }
   ],
   "source": [
    "print(\"Total number of SMILES generated:\" + str(num_smiles_mols))\n",
    "print(\"Number of valid molecules: \" + str(num_valid))\n",
    "print(\"Model accuracy: {:0.2f}\".format(100 * num_valid/num_smiles_mols) + \"% of generated SMILES are valid molecules\")"
   ]
  },
  {
   "cell_type": "code",
   "execution_count": null,
   "metadata": {},
   "outputs": [],
   "source": []
  }
 ],
 "metadata": {
  "kernelspec": {
   "display_name": "Python 3",
   "language": "python",
   "name": "python3"
  },
  "language_info": {
   "codemirror_mode": {
    "name": "ipython",
    "version": 3
   },
   "file_extension": ".py",
   "mimetype": "text/x-python",
   "name": "python",
   "nbconvert_exporter": "python",
   "pygments_lexer": "ipython3",
   "version": "3.5.6"
  }
 },
 "nbformat": 4,
 "nbformat_minor": 2
}
