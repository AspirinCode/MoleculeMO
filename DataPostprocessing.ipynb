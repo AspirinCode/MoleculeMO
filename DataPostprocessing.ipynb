{
 "cells": [
  {
   "cell_type": "code",
   "execution_count": 1,
   "metadata": {},
   "outputs": [],
   "source": [
    "import numpy as np\n",
    "import rdkit as rd\n",
    "from rdkit import Chem\n",
    "from rdkit.Chem import AllChem\n",
    "from rdkit.Chem import Descriptors\n",
    "from rdkit.DataStructs.cDataStructs import TanimotoSimilarity"
   ]
  },
  {
   "cell_type": "code",
   "execution_count": 2,
   "metadata": {},
   "outputs": [],
   "source": [
    "#Determines if SMILES is valid or not\n",
    "def is_valid(smiles):\n",
    "    \n",
    "    mol = Chem.MolFromSmiles(smiles)\n",
    "\n",
    "    #Returns True if SMILES is valid, returns False if SMILES is invalid\n",
    "    return smiles != '' and mol is not None and mol.GetNumAtoms() > 0"
   ]
  },
  {
   "cell_type": "code",
   "execution_count": 3,
   "metadata": {},
   "outputs": [],
   "source": [
    "#Determines LogP\n",
    "def logP(smiles):\n",
    "    \n",
    "    return(Descriptors.MolLogP(Chem.MolFromSmiles(smiles)))"
   ]
  },
  {
   "cell_type": "code",
   "execution_count": 4,
   "metadata": {},
   "outputs": [],
   "source": [
    "#Determins molecular weight\n",
    "def molWt(smiles):\n",
    "    \n",
    "    return(Descriptors.MolWt(Chem.MolFromSmiles(smiles)))"
   ]
  },
  {
   "cell_type": "code",
   "execution_count": 5,
   "metadata": {},
   "outputs": [],
   "source": [
    "#Determine number hydrogen bond acceptors\n",
    "def numAcc(smiles):\n",
    "    \n",
    "    return(Descriptors.NumHAcceptors(Chem.MolFromSmiles(smiles)))"
   ]
  },
  {
   "cell_type": "code",
   "execution_count": 6,
   "metadata": {},
   "outputs": [],
   "source": [
    "#Determine number hydrogen bond donors\n",
    "def numDon(smiles):\n",
    "    \n",
    "    return(Descriptors.NumHDonors(Chem.MolFromSmiles(smiles)))"
   ]
  },
  {
   "cell_type": "code",
   "execution_count": 7,
   "metadata": {},
   "outputs": [],
   "source": [
    "#Determine polar surface area\n",
    "def polSur(smiles):\n",
    "    \n",
    "    return(Descriptors.TPSA(Chem.MolFromSmiles(smiles)))"
   ]
  },
  {
   "cell_type": "code",
   "execution_count": 8,
   "metadata": {},
   "outputs": [],
   "source": [
    "#Determine number of rotatable bonds\n",
    "def rolBon(smiles):\n",
    "    return(Descriptors.NumRotatableBonds(Chem.MolFromSmiles(smiles)))"
   ]
  },
  {
   "cell_type": "code",
   "execution_count": 23,
   "metadata": {},
   "outputs": [],
   "source": [
    "#Number of characters generated\n",
    "num_characters = 0\n",
    "\n",
    "#Number of molecules generated\n",
    "num_smiles = 0\n",
    "\n",
    "#Number of unique SMILES\n",
    "num_unq_mols = 0\n",
    "\n",
    "#Number of unique SMILES that aren't in the training data\n",
    "num_mols = 0\n",
    "\n",
    "#Number of valid molecules that aren't in the training data generated\n",
    "num_valid = 0\n",
    "\n",
    "#List of smiles in file, to make sure smiles are unique\n",
    "smileslist = []"
   ]
  },
  {
   "cell_type": "code",
   "execution_count": 24,
   "metadata": {
    "scrolled": true
   },
   "outputs": [],
   "source": [
    "#Training data\n",
    "training_data = list(open(\"smiles.txt\", \"r\"))\n",
    "\n",
    "#File with unique generated SMILES that aren't in the training data\n",
    "generatedmols = open(\"generatedmols.txt\", \"w\")\n",
    "\n",
    "#Read in data file line by line\n",
    "for line in open(\"generatedsmiles.txt\", \"r\"):\n",
    "    \n",
    "    #Ensure molecules are unique\n",
    "    if line not in smileslist:\n",
    "        \n",
    "        smileslist.append(line)\n",
    "        \n",
    "        num_unq_mols += 1\n",
    "\n",
    "        #Ensure smiles aren't in training data\n",
    "        if line not in training_data:  \n",
    "\n",
    "            #Remove \\n character, remove G character\n",
    "            smiles = line.replace(\"\\n\", \"\").replace(\"G\", \"\")\n",
    "            \n",
    "            #Increment number of molecules generated\n",
    "            num_mols += 1\n",
    "\n",
    "            #Ensure smiles are valid\n",
    "            if(is_valid(smiles) == True):\n",
    "            \n",
    "                #Copy over SMILES satisfying requirements\n",
    "                generatedmols.write(smiles + \"\\n\")\n",
    "                \n",
    "                #Increment number of valid molecules generated\n",
    "                num_valid += 1\n",
    "                \n",
    "    #Increment total number of SMILES generated\n",
    "    num_smiles += 1\n",
    "    \n",
    "    #Add length of line to total number of characters\n",
    "    num_characters += len(line)"
   ]
  },
  {
   "cell_type": "code",
   "execution_count": 25,
   "metadata": {},
   "outputs": [
    {
     "name": "stdout",
     "output_type": "stream",
     "text": [
      "Number of characters generated: 725076\n",
      "Number of molecules generated: 14581\n",
      "Number of unique molecules generated: 3137\n",
      "Number of novel and unique molecules generated: 2982\n",
      "Number of novel, unique, and valid molecules generated: 1413\n"
     ]
    }
   ],
   "source": [
    "print(\"Number of characters generated: \" + str(num_characters))\n",
    "print(\"Number of molecules generated: \" + str(num_smiles))\n",
    "print(\"Number of unique molecules generated: \" + str(num_unq_mols))\n",
    "print(\"Number of novel and unique molecules generated: \" + str(num_mols))\n",
    "print(\"Number of novel, unique, and valid molecules generated: \" + str(num_valid))"
   ]
  },
  {
   "cell_type": "code",
   "execution_count": 27,
   "metadata": {},
   "outputs": [],
   "source": [
    "#List of Morgan fingerprints of molecules\n",
    "fingerprints = []\n",
    "\n",
    "#Read in data file line by line\n",
    "for line in open(\"generatedmols.txt\", \"r\"):\n",
    "    \n",
    "    #Convert SMILES string to Morgan fingerprint\n",
    "    mol = Chem.MolFromSmiles(line.replace(\"\\n\", \"\"))\n",
    "    fingerprint = AllChem.GetMorganFingerprint(mol, 2)\n",
    "    \n",
    "    #Add to list of fingerprints\n",
    "    fingerprints.append(fingerprint)    "
   ]
  },
  {
   "cell_type": "code",
   "execution_count": 28,
   "metadata": {},
   "outputs": [
    {
     "name": "stdout",
     "output_type": "stream",
     "text": [
      "Average Internal Diversity: 0.1638\n"
     ]
    }
   ],
   "source": [
    "#Total Tanimoto Distance\n",
    "tanimoto = 0\n",
    "\n",
    "#Calculate Tanimoto Distance between each pair of fingerprints\n",
    "for fpt1 in fingerprints:\n",
    "    for fpt2 in fingerprints:\n",
    "        \n",
    "        if fpt1 != fpt2:\n",
    "            \n",
    "            #Calculate Tanimoto Distance\n",
    "            tan = TanimotoSimilarity(fpt1, fpt2)\n",
    "            tanimoto += tan\n",
    "\n",
    "#Average Tanimoto Distance (internal diversity)\n",
    "avg_tanimoto = (1 / (num_valid ** 2)) * tanimoto\n",
    "print(\"Average Internal Diversity: {:0.4f}\".format(avg_tanimoto))"
   ]
  },
  {
   "cell_type": "code",
   "execution_count": 36,
   "metadata": {},
   "outputs": [],
   "source": [
    "#Array of molecular properties for generated molecules\n",
    "molProps = np.empty((0,5))\n",
    "\n",
    "#Read in data file line by line\n",
    "for molecule in open(\"generatedmols.txt\", \"r\"):\n",
    "    \n",
    "    #Array of properties [partition coefficient, molecular weight, number of hydrogen bond acceptors, number of hydrogen bond donors, polar surface area]\n",
    "    props = np.reshape(np.array([logP(molecule), molWt(molecule), numAcc(molecule), numDon(molecule), rolBon(molecule)]), (1, 5))\n",
    "    \n",
    "    #Append properties\n",
    "    molProps = np.append(molProps, props, axis=0)"
   ]
  },
  {
   "cell_type": "code",
   "execution_count": 69,
   "metadata": {},
   "outputs": [],
   "source": [
    "#Array of number of molecules each molecule is dominated by\n",
    "dom = np.zeros((np.shape(molProps)[0]))\n",
    "\n",
    "#Analyze each molecule's properties as they compare to others\n",
    "for i in range(np.shape(molProps)[0]):\n",
    "    \n",
    "    for j in range(np.shape(molProps)[0]):\n",
    "        \n",
    "        #Compare each property between the molecules\n",
    "        if (molProps[j, 0] <= molProps[i, 0]):\n",
    "            \n",
    "            if (molProps[j, 1] <= molProps[i, 1]):\n",
    "            \n",
    "                if (molProps[j, 2] <= molProps[i, 2]):\n",
    "\n",
    "                    if (molProps[j, 3] <= molProps[i, 3]):\n",
    "            \n",
    "                        if (molProps[j, 4] <= molProps[i, 4]):\n",
    "                            \n",
    "                            #If molecule j is better than molecule i in every property, than j dominates i\n",
    "                            dom[i] += 1"
   ]
  },
  {
   "cell_type": "code",
   "execution_count": 104,
   "metadata": {},
   "outputs": [],
   "source": [
    "#Count how many frontiers there are and how many molecules are in each frontier\n",
    "unique, counts = np.unique(dom, return_counts=True)\n",
    "fronts = dict(zip(unique, counts))\n",
    "\n",
    "#Indices of best molecules for use in finetuning\n",
    "finemols = np.empty((0,1))\n",
    "\n",
    "#Fraction of molecules to be used for transfer learning\n",
    "top = 0.5\n",
    "\n",
    "#Frontier iterator \n",
    "f = 0\n",
    "#Get indices of the best (top) fraction of molecules\n",
    "while(np.shape(finemols)[0] < (top * np.shape(molProps)[0])):\n",
    "\n",
    "    #Indices of molecules in frontier i\n",
    "    finemolecules = np.transpose(np.where(dom == f))\n",
    "    \n",
    "    #Add to finemols\n",
    "    finemols = np.append(finemols, finemolecules, axis=0)\n",
    "      \n",
    "    #Look at next worst frontier\n",
    "    f += 1"
   ]
  },
  {
   "cell_type": "code",
   "execution_count": 107,
   "metadata": {},
   "outputs": [],
   "source": [
    "#Save best molecules to transferdata.txt\n",
    "transferdata = open(\"transferdata.txt\", \"w\")\n",
    "\n",
    "#Index counter\n",
    "i = 0\n",
    "\n",
    "#Get best molecules and save them to transferdata.txt\n",
    "for line in open(\"generatedmols.txt\", \"r\"):\n",
    "    \n",
    "    #Get best molecules, write to new file\n",
    "    if i in finemols:\n",
    "        transferdata.write(line)\n",
    "    \n",
    "    i += 1\n",
    "\n",
    "#Close file\n",
    "transferdata.close()"
   ]
  },
  {
   "cell_type": "code",
   "execution_count": 108,
   "metadata": {},
   "outputs": [],
   "source": [
    "#Array of molecular properties for generated molecules\n",
    "transfermolprop = np.empty((0,5))\n",
    "\n",
    "#Read in data file line by line\n",
    "for molecule in open(\"transferdata.txt\", \"r\"):\n",
    "    \n",
    "    #Array of properties [partition coefficient, molecular weight, number of hydrogen bond acceptors, number of hydrogen bond donors, polar surface area]\n",
    "    transferprops = np.reshape(np.array([logP(molecule), molWt(molecule), numAcc(molecule), numDon(molecule), rolBon(molecule)]), (1, 5))\n",
    "    \n",
    "    #Append properties\n",
    "    transfermolprop = np.append(transfermolprop, transferprops, axis=0)"
   ]
  },
  {
   "cell_type": "code",
   "execution_count": null,
   "metadata": {},
   "outputs": [],
   "source": []
  }
 ],
 "metadata": {
  "kernelspec": {
   "display_name": "Python 3",
   "language": "python",
   "name": "python3"
  },
  "language_info": {
   "codemirror_mode": {
    "name": "ipython",
    "version": 3
   },
   "file_extension": ".py",
   "mimetype": "text/x-python",
   "name": "python",
   "nbconvert_exporter": "python",
   "pygments_lexer": "ipython3",
   "version": "3.5.6"
  }
 },
 "nbformat": 4,
 "nbformat_minor": 2
}
