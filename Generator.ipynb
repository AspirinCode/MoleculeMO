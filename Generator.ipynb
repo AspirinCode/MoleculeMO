{
 "cells": [
  {
   "cell_type": "code",
   "execution_count": 1,
   "metadata": {},
   "outputs": [
    {
     "name": "stdout",
     "output_type": "stream",
     "text": [
      "Device = cuda\n"
     ]
    }
   ],
   "source": [
    "import numpy as np\n",
    "import torch\n",
    "import torch.nn as nn\n",
    "import torch.nn.functional as F\n",
    "from torch.autograd import Variable\n",
    "\n",
    "#Set device\n",
    "USE_CUDA = torch.cuda.is_available()\n",
    "if USE_CUDA:\n",
    "    device = torch.device(\"cuda\")\n",
    "    cuda = True\n",
    "else:\n",
    "    device = torch.device(\"cpu\")\n",
    "    cuda = False\n",
    "    \n",
    "print(\"Device =\", device)\n",
    "gpus = [0]"
   ]
  },
  {
   "cell_type": "code",
   "execution_count": 14,
   "metadata": {},
   "outputs": [
    {
     "name": "stdout",
     "output_type": "stream",
     "text": [
      "Dataset size: torch.Size([34131372, 1, 55])\n",
      "Integer dataset size: torch.Size([34131372])\n"
     ]
    }
   ],
   "source": [
    "#Load SMILES data as integer labels and as one-hot encoding\n",
    "data = np.load(\"ohesmiles.npz\")\n",
    "data = data[\"arr_0\"]\n",
    "\n",
    "intdata = np.load(\"intsmiles.npz\")\n",
    "intdata = intdata[\"arr_0\"]\n",
    "\n",
    "data = torch.from_numpy(data).view(np.shape(data)[0], 1, np.shape(data)[1])\n",
    "intdata = torch.from_numpy(intdata)\n",
    "\n",
    "print(\"Dataset size: \" + str(data.size()))\n",
    "print(\"Integer dataset size: \" + str(intdata.size()))"
   ]
  },
  {
   "cell_type": "code",
   "execution_count": 97,
   "metadata": {},
   "outputs": [
    {
     "name": "stdout",
     "output_type": "stream",
     "text": [
      "[['\\n' 0 1.0 ... 0.0 0.0 0.0]\n",
      " ['#' 1 0.0 ... 0.0 0.0 0.0]\n",
      " ['(' 2 0.0 ... 0.0 0.0 0.0]\n",
      " ...\n",
      " ['u' 52 0.0 ... 1.0 0.0 0.0]\n",
      " ['{' 53 0.0 ... 0.0 1.0 0.0]\n",
      " ['}' 54 0.0 ... 0.0 0.0 1.0]]\n",
      "Vocab encodings size: (55, 57)\n"
     ]
    }
   ],
   "source": [
    "#Load vocab dictionary as numpy object array\n",
    "vocab = np.load(\"vocab.npy\")\n",
    "print(vocab)\n",
    "print(\"Vocab encodings size: \" + str(np.shape(vocab)))"
   ]
  },
  {
   "cell_type": "code",
   "execution_count": 92,
   "metadata": {},
   "outputs": [],
   "source": [
    "#Define model\n",
    "class Model(nn.Module):\n",
    "    \n",
    "    def __init__(self, input_size, hidden_size, num_layers, dropout):\n",
    "        super(Model, self).__init__()\n",
    "        \n",
    "        #Model parameters\n",
    "        self.input_size = input_size\n",
    "        self.hidden_size = hidden_size\n",
    "        self.num_layers = num_layers\n",
    "        self.dropout = dropout\n",
    "        \n",
    "        #Model layers\n",
    "        self.lstm = nn.LSTM(input_size = input_size, hidden_size = hidden_size, num_layers = num_layers, dropout = dropout)\n",
    "        self.linear = nn.Linear(hidden_size, input_size)\n",
    "        \n",
    "    #Define initial hidden and cell states\n",
    "    def init_states(self, num_layers, hidden_size):\n",
    "        hidden = [Variable(torch.zeros(num_layers, 1, hidden_size)),\n",
    "                  Variable(torch.zeros(num_layers, 1, hidden_size))]\n",
    "        \n",
    "        return hidden\n",
    "    \n",
    "    #Define forward propagation\n",
    "    def forward(self, inp, hidden):\n",
    "        output, hidden = self.lstm(inp, hidden)\n",
    "        output = self.linear(output)\n",
    "        \n",
    "        return output, hidden\n",
    "    "
   ]
  },
  {
   "cell_type": "code",
   "execution_count": 127,
   "metadata": {},
   "outputs": [],
   "source": [
    "#Initialize model and generation parameters\n",
    "input_size = np.shape(data)[2]\n",
    "hidden_size = 256\n",
    "num_layers = 3\n",
    "dropout = .2\n",
    "learning_rate = 0.001\n",
    "epochs = 1\n",
    "seq_length = 76\n",
    "batch_size = 128\n",
    "\n",
    "char_to_gen = 300\n",
    "predict_len = 1\n",
    "temperature = 1\n",
    "prime_string = \"{\""
   ]
  },
  {
   "cell_type": "code",
   "execution_count": 128,
   "metadata": {},
   "outputs": [],
   "source": [
    "#Call and load model\n",
    "model = Model(input_size, hidden_size, num_layers, dropout)\n",
    "model.load_state_dict(torch.load(\"LSTMtrained.pth\"))\n",
    "\n",
    "#Run on GPU\n",
    "if cuda:\n",
    "    model = model.cuda()\n",
    "    \n",
    "model.eval();"
   ]
  },
  {
   "cell_type": "code",
   "execution_count": 131,
   "metadata": {},
   "outputs": [],
   "source": [
    "def generate(prime_string, predict_len, temperature):\n",
    "    #SMILES character string\n",
    "    mol = \"{\"\n",
    "    \n",
    "    #Get input tensor from prime string\n",
    "    prediction = torch.from_numpy(vocab[np.where(vocab == str(prime_string))[0], :][:, 2:].astype(float)).view(1,1,-1).cuda()\n",
    "    \n",
    "    hidden = model.init_states(num_layers, hidden_size)\n",
    "    if cuda:\n",
    "        hidden = (hidden[0].cuda(), hidden[1])\n",
    "    \n",
    "    for i in range(char_to_gen):\n",
    "        #Initialize hidden and cell states\n",
    "        hidden = model.init_states(num_layers, hidden_size)\n",
    "            \n",
    "        #Run on GPU if available\n",
    "        if cuda:\n",
    "            hidden = (hidden[0].cuda(), hidden[1].cuda())\n",
    "            \n",
    "        #Get input tensor\n",
    "        inp = prediction[i,:,:].view(1,1,-1).float()\n",
    "            \n",
    "        #Run on GPU if available\n",
    "        if cuda:\n",
    "            inp = inp.cuda()\n",
    "                \n",
    "        #Run model\n",
    "        output, hidden = model(inp, hidden)\n",
    "\n",
    "        \n",
    "        # Sample from the network as a multinomial distribution\n",
    "        output_dist = output.data.view(-1).div(temperature).exp()\n",
    "        top_i = torch.multinomial(output_dist, 1)[0]\n",
    "        char = torch.from_numpy(vocab[top_i,2:].astype(float)).view(1,1,-1).cuda()\n",
    "        \n",
    "        #Update total prediction with the new character\n",
    "        prediction = torch.cat((prediction, char), 0)\n",
    "        \n",
    "        #Update character string\n",
    "        smile = vocab[top_i,0]\n",
    "        mol = mol + str(smile)\n",
    "        \n",
    "    return prediction, mol"
   ]
  },
  {
   "cell_type": "code",
   "execution_count": 134,
   "metadata": {},
   "outputs": [
    {
     "name": "stdout",
     "output_type": "stream",
     "text": [
      "{C-\\BCCS/FCOF)CCO(\\C[CVRM=[CCC(F)OM2p6c5BC+C{[C2S}S/]}7}S-C.CN)c7}\\c5/C2/CNK2\n",
      ".C3O[NV\n",
      "}\\NF}PC[NNpBr\n",
      "O}\\C.Ct)c\n",
      "S}Fp2.CVu\\O\n",
      "N/Cb}\n",
      "Zb([N}ZCo2PCAuZKOS}}}\n",
      "[PSCBBF)8AC1\n",
      "}\\C}F=A-TTc{C]N(r}F}c2}=CaHc2\n",
      "Cl=Ccl\n",
      "\n",
      "[Cc27})-PCSc[Cn.O/CO.KSl\n",
      "o.IrZ/O.CioAC]F\n",
      "F)\\CC[CCPaC\\CO\n",
      "PP}VtAC\n",
      "}FPCH{C.CO)C\n",
      "O.C#C}/NPSOob#CO)N}.[nt\n"
     ]
    }
   ],
   "source": [
    "prediction, mol = generate(prime_string, predict_len, temperature)\n",
    "print(mol)"
   ]
  },
  {
   "cell_type": "code",
   "execution_count": null,
   "metadata": {},
   "outputs": [],
   "source": []
  }
 ],
 "metadata": {
  "kernelspec": {
   "display_name": "Python 3",
   "language": "python",
   "name": "python3"
  },
  "language_info": {
   "codemirror_mode": {
    "name": "ipython",
    "version": 3
   },
   "file_extension": ".py",
   "mimetype": "text/x-python",
   "name": "python",
   "nbconvert_exporter": "python",
   "pygments_lexer": "ipython3",
   "version": "3.5.6"
  }
 },
 "nbformat": 4,
 "nbformat_minor": 2
}
