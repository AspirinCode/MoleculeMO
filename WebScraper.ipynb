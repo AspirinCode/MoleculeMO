{
 "cells": [
  {
   "cell_type": "code",
   "execution_count": 49,
   "metadata": {},
   "outputs": [],
   "source": [
    "import requests\n",
    "from selenium import webdriver\n",
    "from bs4 import BeautifulSoup"
   ]
  },
  {
   "cell_type": "code",
   "execution_count": 60,
   "metadata": {
    "scrolled": false
   },
   "outputs": [
    {
     "name": "stdout",
     "output_type": "stream",
     "text": [
      "COc1ccc2[C@@H]3[C@H](COc2c1)C(C)(C)OC4=C3C(=O)C(=O)C5=C4OC(C)(C)[C@@H]6COc7cc(OC)ccc7[C@H]56\n",
      "COc1cc2nc(nc(N)c2cc1OC)N3CCN(CC3)C(=O)c4occc4\n",
      "CN1CCC[C@H]1c2cccnc2\n",
      "CC1COc2c(N3CCN(C)CC3)c(F)cc4C(=O)C(=CN1c24)C(=O)O\n",
      "CCN1C=C(C(=O)O)C(=O)c2ccc(C)nc12\n",
      "\n",
      "\n",
      "OC(=O)C1=CN(C2CC2)c3cc(N4CCNCC4)c(F)cc3C1=O\n",
      "CCN1C=C(C(=O)O)C(=O)c2cc(F)c(cc12)N3CCNCC3\n",
      "C[S+]([O-])c1ccc(cc1)c2nc(c3ccc(F)cc3)c([nH]2)c4ccncc4\n"
     ]
    }
   ],
   "source": [
    " CHEMBL = \"https://www.ebi.ac.uk/chembl/beta/compound_report_card/CHEMBL\"\n",
    "    \n",
    "for i in range(5):\n",
    "    CHEMBL+=str(i+1)\n",
    "\n",
    "    driver = webdriver.Chrome()\n",
    "    driver.get(CHEMBL)\n",
    "    content = driver.page_source.encode('utf-8').strip()\n",
    "\n",
    "    CHEMBLsoup = BeautifulSoup(content, \"html.parser\")\n",
    "    table = CHEMBLsoup.find_all(\"table\", class_=\"compact-table hide-on-small-only\")[0]\n",
    "    table_body = table.find(\"tbody\")\n",
    "    row = table_body.find_all('tr')[1]\n",
    "    col = row.find(\"td\", class_=\"BCK-CanonicalSmiles\")\n",
    "    SMILES = str(col)[140:].split(\">\",1)[0]\n",
    "    length = len(str(col)[140:].split(\">\",1)[0])\n",
    "    SMILES = SMILES[:length-1]\n",
    "    print(SMILES)\n",
    "\n",
    "    CHEMBL = \"https://www.ebi.ac.uk/chembl/beta/compound_report_card/CHEMBL\""
   ]
  },
  {
   "cell_type": "code",
   "execution_count": null,
   "metadata": {},
   "outputs": [],
   "source": []
  }
 ],
 "metadata": {
  "kernelspec": {
   "display_name": "Python 3",
   "language": "python",
   "name": "python3"
  },
  "language_info": {
   "codemirror_mode": {
    "name": "ipython",
    "version": 3
   },
   "file_extension": ".py",
   "mimetype": "text/x-python",
   "name": "python",
   "nbconvert_exporter": "python",
   "pygments_lexer": "ipython3",
   "version": "3.5.6"
  }
 },
 "nbformat": 4,
 "nbformat_minor": 2
}
