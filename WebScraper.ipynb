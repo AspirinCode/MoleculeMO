{
 "cells": [
  {
   "cell_type": "code",
   "execution_count": 10,
   "metadata": {},
   "outputs": [],
   "source": [
    "import time\n",
    "import datetime\n",
    "import requests\n",
    "from selenium import webdriver\n",
    "from bs4 import BeautifulSoup"
   ]
  },
  {
   "cell_type": "code",
   "execution_count": 22,
   "metadata": {
    "scrolled": false
   },
   "outputs": [
    {
     "name": "stdout",
     "output_type": "stream",
     "text": [
      " SMILES saved: 1  | Time elapsed: 0 hours 0 minutes 18 seconds\n",
      "COc1ccc2[C@@H]3[C@H](COc2c1)C(C)(C)OC4=C3C(=O)C(=O)C5=C4OC(C)(C)[C@@H]6COc7cc(OC)ccc7[C@H]56\n",
      "\n"
     ]
    }
   ],
   "source": [
    "start_time = time.time()\n",
    "CHEMBL = \"https://www.ebi.ac.uk/chembl/beta/compound_report_card/CHEMBL\"\n",
    "driver = webdriver.Chrome()\n",
    "\n",
    "SMILESdata = []\n",
    "counter = 0\n",
    "for i in range(10):\n",
    "    CHEMBL+=str(i+1)\n",
    "\n",
    "    driver.get(CHEMBL)\n",
    "    time.sleep(.25)\n",
    "    content = driver.page_source.encode('utf-8').strip()\n",
    "        \n",
    "    CHEMBLsoup = BeautifulSoup(content, \"html.parser\")\n",
    "    table = CHEMBLsoup.find_all(\"table\", class_=\"compact-table hide-on-small-only\")[0]\n",
    "    table_body = table.find(\"tbody\")\n",
    "    row = table_body.find_all('tr')[1]\n",
    "    col = row.find(\"td\", class_=\"BCK-CanonicalSmiles\")\n",
    "    SMILES = str(col)[140:].split(\">\",1)[0]\n",
    "    length = len(str(col)[140:].split(\">\",1)[0])\n",
    "    SMILES = SMILES[:length-1]\n",
    "    if ((len(SMILES))!=0):\n",
    "        SMILESdata.append(SMILES)\n",
    "        counter+=1\n",
    "    elapsed = time.time() - start_time\n",
    "    hours = int(elapsed/3600)\n",
    "    minutes = int(int(elapsed/60)%60)\n",
    "    seconds = int(elapsed%60)\n",
    "    print(\" SMILES saved:\", counter, \" | Time elapsed:\", hours, \"hours\", minutes, \"minutes\", seconds, \"seconds\" )\n",
    "    \n",
    "    CHEMBL = \"https://www.ebi.ac.uk/chembl/beta/compound_report_card/CHEMBL\"\n",
    "\n",
    "driver.close()\n",
    "print(*SMILESdata, sep=\"\\n\")"
   ]
  },
  {
   "cell_type": "code",
   "execution_count": null,
   "metadata": {},
   "outputs": [],
   "source": []
  }
 ],
 "metadata": {
  "kernelspec": {
   "display_name": "Python 3",
   "language": "python",
   "name": "python3"
  },
  "language_info": {
   "codemirror_mode": {
    "name": "ipython",
    "version": 3
   },
   "file_extension": ".py",
   "mimetype": "text/x-python",
   "name": "python",
   "nbconvert_exporter": "python",
   "pygments_lexer": "ipython3",
   "version": "3.5.6"
  }
 },
 "nbformat": 4,
 "nbformat_minor": 2
}
