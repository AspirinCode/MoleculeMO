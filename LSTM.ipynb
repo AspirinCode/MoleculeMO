{
 "cells": [
  {
   "cell_type": "code",
   "execution_count": 133,
   "metadata": {},
   "outputs": [
    {
     "name": "stdout",
     "output_type": "stream",
     "text": [
      "Device = cuda\n"
     ]
    }
   ],
   "source": [
    "import random\n",
    "import numpy as np\n",
    "import torch\n",
    "import torch.nn as nn\n",
    "import torch.nn.functional as F\n",
    "from torch.autograd import Variable\n",
    "import time\n",
    "import sys\n",
    "\n",
    "#Set device\n",
    "USE_CUDA = torch.cuda.is_available()\n",
    "if USE_CUDA:\n",
    "    device = torch.device(\"cuda\")\n",
    "    cuda = True\n",
    "else:\n",
    "    device = torch.device(\"cpu\")\n",
    "    cuda = False\n",
    "    \n",
    "print(\"Device =\", device)\n",
    "gpus = [0]"
   ]
  },
  {
   "cell_type": "code",
   "execution_count": 2,
   "metadata": {},
   "outputs": [],
   "source": [
    "def time_elapsed(start_time):\n",
    "    elapsed = time.time() - start_time\n",
    "    hours = int(elapsed/3600)\n",
    "    minutes = int(int(elapsed/60)%60)\n",
    "    seconds = int(elapsed%60)\n",
    "    \n",
    "    return hours, minutes, seconds"
   ]
  },
  {
   "cell_type": "code",
   "execution_count": 3,
   "metadata": {},
   "outputs": [
    {
     "name": "stdout",
     "output_type": "stream",
     "text": [
      "Dataset size: torch.Size([34131372, 1, 55])\n",
      "Integer dataset size: torch.Size([34131372])\n"
     ]
    }
   ],
   "source": [
    "#Load SMILES data as integer labels and as one-hot encoding\n",
    "data = np.load(\"ohesmiles.npz\")\n",
    "data = data[\"arr_0\"]\n",
    "\n",
    "intdata = np.load(\"intsmiles.npz\")\n",
    "intdata = intdata[\"arr_0\"]\n",
    "\n",
    "data = torch.from_numpy(data).view(np.shape(data)[0], 1, np.shape(data)[1])\n",
    "intdata = torch.from_numpy(intdata)\n",
    "\n",
    "print(\"Dataset size: \" + str(data.size()))\n",
    "print(\"Integer dataset size: \" + str(intdata.size()))"
   ]
  },
  {
   "cell_type": "code",
   "execution_count": 109,
   "metadata": {},
   "outputs": [],
   "source": [
    "#Get input tensor\n",
    "def inptarg(i, shuffle, batch_size):\n",
    "    \n",
    "    #Define input and target tensor sizes\n",
    "    inp = torch.Tensor((seq_length - 1) * batch_size, 1, np.shape(data)[2])\n",
    "    target = torch.Tensor((seq_length - 1) * batch_size)\n",
    "    \n",
    "    #SMILES molecules in batch \n",
    "    inputs = data[int(shuffle[i] * seq_length) : int((shuffle[i] * seq_length) + (seq_length * batch_size)), :, :]\n",
    "    targets = intdata[int(shuffle[i] * seq_length) : int((shuffle[i] * seq_length) + (seq_length * batch_size))]\n",
    "    \n",
    "    #Index counters for input, target\n",
    "    r = 0\n",
    "    s = 0 \n",
    "    for p in range(seq_length * batch_size - 1):\n",
    "        \n",
    "        if (p % 76 != 75):\n",
    "            #Input data (does not include last character in SMILES)\n",
    "            inp[r, :, :] = inputs[p, :, :]\n",
    "            r += 1\n",
    "            \n",
    "        if (p % 76 != 0):\n",
    "            #Target data (does not include first character in SMILES)\n",
    "            target[s] = targets[p]\n",
    "            s += 1\n",
    "\n",
    "    return inp, target"
   ]
  },
  {
   "cell_type": "code",
   "execution_count": 5,
   "metadata": {},
   "outputs": [],
   "source": [
    "#Get target tensor\n",
    "def target(i, shuffle):\n",
    "    \n",
    "    #Target (does not include first character in SMILES)\n",
    "    target = intdata[int((shuffle[i] * seq_length) + 1) : int((shuffle[i] * seq_length) + seq_length)]\n",
    "\n",
    "    return target"
   ]
  },
  {
   "cell_type": "code",
   "execution_count": 127,
   "metadata": {},
   "outputs": [],
   "source": [
    "#Define model\n",
    "class Model(nn.Module):\n",
    "    \n",
    "    #Define model parameters\n",
    "    def __init__(self, input_size, hidden_size, num_layers, dropout):\n",
    "        super(Model, self).__init__()\n",
    "        \n",
    "        #Model parameters\n",
    "        self.input_size = input_size\n",
    "        self.hidden_size = hidden_size\n",
    "        self.num_layers = num_layers\n",
    "        self.dropout = dropout\n",
    "        \n",
    "        #Model layers\n",
    "        self.lstm = nn.LSTM(input_size = input_size, hidden_size = hidden_size, num_layers = num_layers, dropout = dropout)\n",
    "        self.linear = nn.Linear(hidden_size, input_size)\n",
    "        \n",
    "    #Define initial hidden and cell states\n",
    "    def init_states(self, num_layers, hidden_size):\n",
    "        hidden = [Variable(torch.zeros(num_layers, 1, hidden_size)),\n",
    "                  Variable(torch.zeros(num_layers, 1, hidden_size))]\n",
    "        \n",
    "        return hidden\n",
    "    \n",
    "    #Define forward propagation\n",
    "    def forward(self, inp, hidden):\n",
    "        output, hidden = self.lstm(inp, hidden)\n",
    "        output = self.linear(output)\n",
    "        \n",
    "        return output, hidden\n",
    "    "
   ]
  },
  {
   "cell_type": "code",
   "execution_count": 135,
   "metadata": {},
   "outputs": [],
   "source": [
    "#Set start time\n",
    "start_time = time.time()\n",
    "\n",
    "#Define training\n",
    "def train(epochs):\n",
    "    #Iterate over desired number of epochs \n",
    "    for e in range(epochs):\n",
    "        \n",
    "        #Get random order of SMILES molecules (shuffle data)\n",
    "        shuffle = np.arange(np.shape(data)[0] / seq_length)\n",
    "        random.shuffle(shuffle)\n",
    "        \n",
    "        #Iterate over each molecule in dataset\n",
    "        for i in range(int(np.shape(data)[0] / seq_length / batch_size)):\n",
    "            \n",
    "            #Initialize hidden and cell states\n",
    "            hidden = model.init_states(num_layers, hidden_size)\n",
    "            \n",
    "            #Run on GPU if available\n",
    "            if cuda:\n",
    "                hidden = (hidden[0].cuda(), hidden[1].cuda())\n",
    "        \n",
    "            #Set initial gradients\n",
    "            model.zero_grad()\n",
    "    \n",
    "            #Set initial loss\n",
    "            loss = 0 \n",
    "            \n",
    "            #Get input and target\n",
    "            input_data, target_data = inptarg(i, shuffle, batch_size)\n",
    "            input_data = input_data.float()\n",
    "            target_data = target_data.long()\n",
    "            \n",
    "            #Run on GPU if available\n",
    "            if cuda:\n",
    "                input_data = input_data.cuda()\n",
    "                target_data = target_data.cuda()\n",
    "                \n",
    "            #Run model, calculate loss\n",
    "            output, hidden = model(input_data, hidden)\n",
    "            loss += criterion(output.squeeze(), target_data.squeeze())\n",
    "                \n",
    "            #Backpropagate loss\n",
    "            loss.backward()\n",
    "            optimizer.step()\n",
    "            \n",
    "            #Update list of losses\n",
    "            if (e == i == 0):\n",
    "                losses[0] = loss.data.item() / seq_length   \n",
    "            losses.append(loss.data.item() / seq_length)\n",
    "            \n",
    "            if (i % 10 == 0):\n",
    "                torch.save(model.state_dict(), \"LSTMtrained.pth\")\n",
    "            \n",
    "            #Print training info\n",
    "            hours, minutes, seconds = time_elapsed(start_time)\n",
    "            print(\"Loss: {:0.6f}\".format(loss.data.item() / seq_length) + \" | ΔLossTotal: {:+0.4f}\".format(losses[-1] - losses[1]) + \" | Epoch: {0:02d}\".format(e + 1) + \" | Iteration: {0:04d}\".format(i + 1) + \" | Time elapsed: {0:02d}\".format(hours) + \"h {0:02d}\".format(minutes) + \" m {0:02d}\".format(seconds) + \" s\")\n",
    "        "
   ]
  },
  {
   "cell_type": "code",
   "execution_count": 136,
   "metadata": {},
   "outputs": [],
   "source": [
    "#Initialize model parameters\n",
    "input_size = np.shape(data)[2]\n",
    "hidden_size = 256\n",
    "num_layers = 3\n",
    "dropout = .2\n",
    "learning_rate = 0.001\n",
    "epochs = 1\n",
    "seq_length = 76\n",
    "batch_size = 32\n",
    "\n",
    "#List of losses\n",
    "losses = [0]"
   ]
  },
  {
   "cell_type": "code",
   "execution_count": 137,
   "metadata": {},
   "outputs": [],
   "source": [
    "#Call model, set optimizer and loss function\n",
    "model = Model(input_size, hidden_size, num_layers, dropout)\n",
    "optimizer = torch.optim.Adam(model.parameters(), lr = learning_rate)\n",
    "criterion = nn.CrossEntropyLoss()\n",
    "\n",
    "#Run on GPU if available\n",
    "if cuda:\n",
    "    model.cuda()\n",
    "    criterion.cuda()  "
   ]
  },
  {
   "cell_type": "code",
   "execution_count": 138,
   "metadata": {},
   "outputs": [
    {
     "name": "stdout",
     "output_type": "stream",
     "text": [
      "Total number of parameters in network: 1387319\n"
     ]
    }
   ],
   "source": [
    "#Total number of parameters\n",
    "total_params = sum(p.numel() for p in model.parameters())\n",
    "print(\"Total number of parameters in network: \" + str(total_params))"
   ]
  },
  {
   "cell_type": "code",
   "execution_count": 139,
   "metadata": {
    "scrolled": true
   },
   "outputs": [
    {
     "name": "stdout",
     "output_type": "stream",
     "text": [
      "Loss: 0.052533 | ΔLossTotal: +0.0000 | Epoch: 01 | Iteration: 0001 | Time elapsed: 00h 00 m 03 s\n",
      "Loss: 0.052119 | ΔLossTotal: -0.0004 | Epoch: 01 | Iteration: 0002 | Time elapsed: 00h 00 m 05 s\n",
      "Loss: 0.051464 | ΔLossTotal: -0.0011 | Epoch: 01 | Iteration: 0003 | Time elapsed: 00h 00 m 06 s\n",
      "Loss: 0.050106 | ΔLossTotal: -0.0024 | Epoch: 01 | Iteration: 0004 | Time elapsed: 00h 00 m 07 s\n",
      "Loss: 0.048085 | ΔLossTotal: -0.0044 | Epoch: 01 | Iteration: 0005 | Time elapsed: 00h 00 m 09 s\n",
      "Loss: 0.043834 | ΔLossTotal: -0.0087 | Epoch: 01 | Iteration: 0006 | Time elapsed: 00h 00 m 10 s\n",
      "Loss: 0.040249 | ΔLossTotal: -0.0123 | Epoch: 01 | Iteration: 0007 | Time elapsed: 00h 00 m 11 s\n",
      "Loss: 0.031045 | ΔLossTotal: -0.0215 | Epoch: 01 | Iteration: 0008 | Time elapsed: 00h 00 m 12 s\n",
      "Loss: 0.036060 | ΔLossTotal: -0.0165 | Epoch: 01 | Iteration: 0009 | Time elapsed: 00h 00 m 14 s\n",
      "Loss: 0.031616 | ΔLossTotal: -0.0209 | Epoch: 01 | Iteration: 0010 | Time elapsed: 00h 00 m 15 s\n",
      "Loss: 0.029021 | ΔLossTotal: -0.0235 | Epoch: 01 | Iteration: 0011 | Time elapsed: 00h 00 m 16 s\n",
      "Loss: 0.030077 | ΔLossTotal: -0.0225 | Epoch: 01 | Iteration: 0012 | Time elapsed: 00h 00 m 17 s\n",
      "Loss: 0.032464 | ΔLossTotal: -0.0201 | Epoch: 01 | Iteration: 0013 | Time elapsed: 00h 00 m 19 s\n",
      "Loss: 0.031720 | ΔLossTotal: -0.0208 | Epoch: 01 | Iteration: 0014 | Time elapsed: 00h 00 m 20 s\n",
      "Loss: 0.032664 | ΔLossTotal: -0.0199 | Epoch: 01 | Iteration: 0015 | Time elapsed: 00h 00 m 21 s\n",
      "Loss: 0.029746 | ΔLossTotal: -0.0228 | Epoch: 01 | Iteration: 0016 | Time elapsed: 00h 00 m 23 s\n",
      "Loss: 0.032525 | ΔLossTotal: -0.0200 | Epoch: 01 | Iteration: 0017 | Time elapsed: 00h 00 m 24 s\n",
      "Loss: 0.031772 | ΔLossTotal: -0.0208 | Epoch: 01 | Iteration: 0018 | Time elapsed: 00h 00 m 25 s\n",
      "Loss: 0.028494 | ΔLossTotal: -0.0240 | Epoch: 01 | Iteration: 0019 | Time elapsed: 00h 00 m 27 s\n",
      "Loss: 0.030923 | ΔLossTotal: -0.0216 | Epoch: 01 | Iteration: 0020 | Time elapsed: 00h 00 m 28 s\n",
      "Loss: 0.030999 | ΔLossTotal: -0.0215 | Epoch: 01 | Iteration: 0021 | Time elapsed: 00h 00 m 29 s\n",
      "Loss: 0.029605 | ΔLossTotal: -0.0229 | Epoch: 01 | Iteration: 0022 | Time elapsed: 00h 00 m 30 s\n",
      "Loss: 0.029349 | ΔLossTotal: -0.0232 | Epoch: 01 | Iteration: 0023 | Time elapsed: 00h 00 m 32 s\n",
      "Loss: 0.031831 | ΔLossTotal: -0.0207 | Epoch: 01 | Iteration: 0024 | Time elapsed: 00h 00 m 33 s\n"
     ]
    },
    {
     "ename": "KeyboardInterrupt",
     "evalue": "",
     "output_type": "error",
     "traceback": [
      "\u001b[1;31m---------------------------------------------------------------------------\u001b[0m",
      "\u001b[1;31mKeyboardInterrupt\u001b[0m                         Traceback (most recent call last)",
      "\u001b[1;32m<ipython-input-139-0645ca97616e>\u001b[0m in \u001b[0;36m<module>\u001b[1;34m()\u001b[0m\n\u001b[0;32m      1\u001b[0m \u001b[1;31m#Train\u001b[0m\u001b[1;33m\u001b[0m\u001b[1;33m\u001b[0m\u001b[0m\n\u001b[1;32m----> 2\u001b[1;33m \u001b[0mtrain\u001b[0m\u001b[1;33m(\u001b[0m\u001b[0mepochs\u001b[0m\u001b[1;33m)\u001b[0m\u001b[1;33m\u001b[0m\u001b[0m\n\u001b[0m",
      "\u001b[1;32m<ipython-input-135-43e60e5ab0e9>\u001b[0m in \u001b[0;36mtrain\u001b[1;34m(epochs)\u001b[0m\n\u001b[0;32m     38\u001b[0m \u001b[1;33m\u001b[0m\u001b[0m\n\u001b[0;32m     39\u001b[0m             \u001b[1;31m#Run model, calculate loss\u001b[0m\u001b[1;33m\u001b[0m\u001b[1;33m\u001b[0m\u001b[0m\n\u001b[1;32m---> 40\u001b[1;33m             \u001b[0moutput\u001b[0m\u001b[1;33m,\u001b[0m \u001b[0mhidden\u001b[0m \u001b[1;33m=\u001b[0m \u001b[0mmodel\u001b[0m\u001b[1;33m(\u001b[0m\u001b[0minput_data\u001b[0m\u001b[1;33m,\u001b[0m \u001b[0mhidden\u001b[0m\u001b[1;33m)\u001b[0m\u001b[1;33m\u001b[0m\u001b[0m\n\u001b[0m\u001b[0;32m     41\u001b[0m             \u001b[0mloss\u001b[0m \u001b[1;33m+=\u001b[0m \u001b[0mcriterion\u001b[0m\u001b[1;33m(\u001b[0m\u001b[0moutput\u001b[0m\u001b[1;33m.\u001b[0m\u001b[0msqueeze\u001b[0m\u001b[1;33m(\u001b[0m\u001b[1;33m)\u001b[0m\u001b[1;33m,\u001b[0m \u001b[0mtarget_data\u001b[0m\u001b[1;33m.\u001b[0m\u001b[0msqueeze\u001b[0m\u001b[1;33m(\u001b[0m\u001b[1;33m)\u001b[0m\u001b[1;33m)\u001b[0m\u001b[1;33m\u001b[0m\u001b[0m\n\u001b[0;32m     42\u001b[0m \u001b[1;33m\u001b[0m\u001b[0m\n",
      "\u001b[1;32m~\\Anaconda3\\lib\\site-packages\\torch\\nn\\modules\\module.py\u001b[0m in \u001b[0;36m__call__\u001b[1;34m(self, *input, **kwargs)\u001b[0m\n\u001b[0;32m    475\u001b[0m             \u001b[0mresult\u001b[0m \u001b[1;33m=\u001b[0m \u001b[0mself\u001b[0m\u001b[1;33m.\u001b[0m\u001b[0m_slow_forward\u001b[0m\u001b[1;33m(\u001b[0m\u001b[1;33m*\u001b[0m\u001b[0minput\u001b[0m\u001b[1;33m,\u001b[0m \u001b[1;33m**\u001b[0m\u001b[0mkwargs\u001b[0m\u001b[1;33m)\u001b[0m\u001b[1;33m\u001b[0m\u001b[0m\n\u001b[0;32m    476\u001b[0m         \u001b[1;32melse\u001b[0m\u001b[1;33m:\u001b[0m\u001b[1;33m\u001b[0m\u001b[0m\n\u001b[1;32m--> 477\u001b[1;33m             \u001b[0mresult\u001b[0m \u001b[1;33m=\u001b[0m \u001b[0mself\u001b[0m\u001b[1;33m.\u001b[0m\u001b[0mforward\u001b[0m\u001b[1;33m(\u001b[0m\u001b[1;33m*\u001b[0m\u001b[0minput\u001b[0m\u001b[1;33m,\u001b[0m \u001b[1;33m**\u001b[0m\u001b[0mkwargs\u001b[0m\u001b[1;33m)\u001b[0m\u001b[1;33m\u001b[0m\u001b[0m\n\u001b[0m\u001b[0;32m    478\u001b[0m         \u001b[1;32mfor\u001b[0m \u001b[0mhook\u001b[0m \u001b[1;32min\u001b[0m \u001b[0mself\u001b[0m\u001b[1;33m.\u001b[0m\u001b[0m_forward_hooks\u001b[0m\u001b[1;33m.\u001b[0m\u001b[0mvalues\u001b[0m\u001b[1;33m(\u001b[0m\u001b[1;33m)\u001b[0m\u001b[1;33m:\u001b[0m\u001b[1;33m\u001b[0m\u001b[0m\n\u001b[0;32m    479\u001b[0m             \u001b[0mhook_result\u001b[0m \u001b[1;33m=\u001b[0m \u001b[0mhook\u001b[0m\u001b[1;33m(\u001b[0m\u001b[0mself\u001b[0m\u001b[1;33m,\u001b[0m \u001b[0minput\u001b[0m\u001b[1;33m,\u001b[0m \u001b[0mresult\u001b[0m\u001b[1;33m)\u001b[0m\u001b[1;33m\u001b[0m\u001b[0m\n",
      "\u001b[1;32m<ipython-input-127-9b36a34ba9ef>\u001b[0m in \u001b[0;36mforward\u001b[1;34m(self, inp, hidden)\u001b[0m\n\u001b[0;32m     25\u001b[0m     \u001b[1;31m#Define forward propagation\u001b[0m\u001b[1;33m\u001b[0m\u001b[1;33m\u001b[0m\u001b[0m\n\u001b[0;32m     26\u001b[0m     \u001b[1;32mdef\u001b[0m \u001b[0mforward\u001b[0m\u001b[1;33m(\u001b[0m\u001b[0mself\u001b[0m\u001b[1;33m,\u001b[0m \u001b[0minp\u001b[0m\u001b[1;33m,\u001b[0m \u001b[0mhidden\u001b[0m\u001b[1;33m)\u001b[0m\u001b[1;33m:\u001b[0m\u001b[1;33m\u001b[0m\u001b[0m\n\u001b[1;32m---> 27\u001b[1;33m         \u001b[0moutput\u001b[0m\u001b[1;33m,\u001b[0m \u001b[0mhidden\u001b[0m \u001b[1;33m=\u001b[0m \u001b[0mself\u001b[0m\u001b[1;33m.\u001b[0m\u001b[0mlstm\u001b[0m\u001b[1;33m(\u001b[0m\u001b[0minp\u001b[0m\u001b[1;33m,\u001b[0m \u001b[0mhidden\u001b[0m\u001b[1;33m)\u001b[0m\u001b[1;33m\u001b[0m\u001b[0m\n\u001b[0m\u001b[0;32m     28\u001b[0m         \u001b[0moutput\u001b[0m \u001b[1;33m=\u001b[0m \u001b[0mself\u001b[0m\u001b[1;33m.\u001b[0m\u001b[0mlinear\u001b[0m\u001b[1;33m(\u001b[0m\u001b[0moutput\u001b[0m\u001b[1;33m)\u001b[0m\u001b[1;33m\u001b[0m\u001b[0m\n\u001b[0;32m     29\u001b[0m \u001b[1;33m\u001b[0m\u001b[0m\n",
      "\u001b[1;32m~\\Anaconda3\\lib\\site-packages\\torch\\nn\\modules\\module.py\u001b[0m in \u001b[0;36m__call__\u001b[1;34m(self, *input, **kwargs)\u001b[0m\n\u001b[0;32m    475\u001b[0m             \u001b[0mresult\u001b[0m \u001b[1;33m=\u001b[0m \u001b[0mself\u001b[0m\u001b[1;33m.\u001b[0m\u001b[0m_slow_forward\u001b[0m\u001b[1;33m(\u001b[0m\u001b[1;33m*\u001b[0m\u001b[0minput\u001b[0m\u001b[1;33m,\u001b[0m \u001b[1;33m**\u001b[0m\u001b[0mkwargs\u001b[0m\u001b[1;33m)\u001b[0m\u001b[1;33m\u001b[0m\u001b[0m\n\u001b[0;32m    476\u001b[0m         \u001b[1;32melse\u001b[0m\u001b[1;33m:\u001b[0m\u001b[1;33m\u001b[0m\u001b[0m\n\u001b[1;32m--> 477\u001b[1;33m             \u001b[0mresult\u001b[0m \u001b[1;33m=\u001b[0m \u001b[0mself\u001b[0m\u001b[1;33m.\u001b[0m\u001b[0mforward\u001b[0m\u001b[1;33m(\u001b[0m\u001b[1;33m*\u001b[0m\u001b[0minput\u001b[0m\u001b[1;33m,\u001b[0m \u001b[1;33m**\u001b[0m\u001b[0mkwargs\u001b[0m\u001b[1;33m)\u001b[0m\u001b[1;33m\u001b[0m\u001b[0m\n\u001b[0m\u001b[0;32m    478\u001b[0m         \u001b[1;32mfor\u001b[0m \u001b[0mhook\u001b[0m \u001b[1;32min\u001b[0m \u001b[0mself\u001b[0m\u001b[1;33m.\u001b[0m\u001b[0m_forward_hooks\u001b[0m\u001b[1;33m.\u001b[0m\u001b[0mvalues\u001b[0m\u001b[1;33m(\u001b[0m\u001b[1;33m)\u001b[0m\u001b[1;33m:\u001b[0m\u001b[1;33m\u001b[0m\u001b[0m\n\u001b[0;32m    479\u001b[0m             \u001b[0mhook_result\u001b[0m \u001b[1;33m=\u001b[0m \u001b[0mhook\u001b[0m\u001b[1;33m(\u001b[0m\u001b[0mself\u001b[0m\u001b[1;33m,\u001b[0m \u001b[0minput\u001b[0m\u001b[1;33m,\u001b[0m \u001b[0mresult\u001b[0m\u001b[1;33m)\u001b[0m\u001b[1;33m\u001b[0m\u001b[0m\n",
      "\u001b[1;32m~\\Anaconda3\\lib\\site-packages\\torch\\nn\\modules\\rnn.py\u001b[0m in \u001b[0;36mforward\u001b[1;34m(self, input, hx)\u001b[0m\n\u001b[0;32m    190\u001b[0m             \u001b[0mflat_weight\u001b[0m\u001b[1;33m=\u001b[0m\u001b[0mflat_weight\u001b[0m\u001b[1;33m\u001b[0m\u001b[0m\n\u001b[0;32m    191\u001b[0m         )\n\u001b[1;32m--> 192\u001b[1;33m         \u001b[0moutput\u001b[0m\u001b[1;33m,\u001b[0m \u001b[0mhidden\u001b[0m \u001b[1;33m=\u001b[0m \u001b[0mfunc\u001b[0m\u001b[1;33m(\u001b[0m\u001b[0minput\u001b[0m\u001b[1;33m,\u001b[0m \u001b[0mself\u001b[0m\u001b[1;33m.\u001b[0m\u001b[0mall_weights\u001b[0m\u001b[1;33m,\u001b[0m \u001b[0mhx\u001b[0m\u001b[1;33m,\u001b[0m \u001b[0mbatch_sizes\u001b[0m\u001b[1;33m)\u001b[0m\u001b[1;33m\u001b[0m\u001b[0m\n\u001b[0m\u001b[0;32m    193\u001b[0m         \u001b[1;32mif\u001b[0m \u001b[0mis_packed\u001b[0m\u001b[1;33m:\u001b[0m\u001b[1;33m\u001b[0m\u001b[0m\n\u001b[0;32m    194\u001b[0m             \u001b[0moutput\u001b[0m \u001b[1;33m=\u001b[0m \u001b[0mPackedSequence\u001b[0m\u001b[1;33m(\u001b[0m\u001b[0moutput\u001b[0m\u001b[1;33m,\u001b[0m \u001b[0mbatch_sizes\u001b[0m\u001b[1;33m)\u001b[0m\u001b[1;33m\u001b[0m\u001b[0m\n",
      "\u001b[1;32m~\\Anaconda3\\lib\\site-packages\\torch\\nn\\_functions\\rnn.py\u001b[0m in \u001b[0;36mforward\u001b[1;34m(input, *fargs, **fkwargs)\u001b[0m\n\u001b[0;32m    322\u001b[0m             \u001b[0mfunc\u001b[0m \u001b[1;33m=\u001b[0m \u001b[0mdecorator\u001b[0m\u001b[1;33m(\u001b[0m\u001b[0mfunc\u001b[0m\u001b[1;33m)\u001b[0m\u001b[1;33m\u001b[0m\u001b[0m\n\u001b[0;32m    323\u001b[0m \u001b[1;33m\u001b[0m\u001b[0m\n\u001b[1;32m--> 324\u001b[1;33m         \u001b[1;32mreturn\u001b[0m \u001b[0mfunc\u001b[0m\u001b[1;33m(\u001b[0m\u001b[0minput\u001b[0m\u001b[1;33m,\u001b[0m \u001b[1;33m*\u001b[0m\u001b[0mfargs\u001b[0m\u001b[1;33m,\u001b[0m \u001b[1;33m**\u001b[0m\u001b[0mfkwargs\u001b[0m\u001b[1;33m)\u001b[0m\u001b[1;33m\u001b[0m\u001b[0m\n\u001b[0m\u001b[0;32m    325\u001b[0m \u001b[1;33m\u001b[0m\u001b[0m\n\u001b[0;32m    326\u001b[0m     \u001b[1;32mreturn\u001b[0m \u001b[0mforward\u001b[0m\u001b[1;33m\u001b[0m\u001b[0m\n",
      "\u001b[1;32m~\\Anaconda3\\lib\\site-packages\\torch\\nn\\_functions\\rnn.py\u001b[0m in \u001b[0;36mforward\u001b[1;34m(input, weight, hx, batch_sizes)\u001b[0m\n\u001b[0;32m    286\u001b[0m             \u001b[0mbatch_first\u001b[0m\u001b[1;33m,\u001b[0m \u001b[0mdropout\u001b[0m\u001b[1;33m,\u001b[0m \u001b[0mtrain\u001b[0m\u001b[1;33m,\u001b[0m \u001b[0mbool\u001b[0m\u001b[1;33m(\u001b[0m\u001b[0mbidirectional\u001b[0m\u001b[1;33m)\u001b[0m\u001b[1;33m,\u001b[0m\u001b[1;33m\u001b[0m\u001b[0m\n\u001b[0;32m    287\u001b[0m             \u001b[0mlist\u001b[0m\u001b[1;33m(\u001b[0m\u001b[0mbatch_sizes\u001b[0m\u001b[1;33m.\u001b[0m\u001b[0mdata\u001b[0m\u001b[1;33m)\u001b[0m \u001b[1;32mif\u001b[0m \u001b[0mvariable_length\u001b[0m \u001b[1;32melse\u001b[0m \u001b[1;33m(\u001b[0m\u001b[1;33m)\u001b[0m\u001b[1;33m,\u001b[0m\u001b[1;33m\u001b[0m\u001b[0m\n\u001b[1;32m--> 288\u001b[1;33m             dropout_ts)\n\u001b[0m\u001b[0;32m    289\u001b[0m \u001b[1;33m\u001b[0m\u001b[0m\n\u001b[0;32m    290\u001b[0m         \u001b[1;32mif\u001b[0m \u001b[0mcx\u001b[0m \u001b[1;32mis\u001b[0m \u001b[1;32mnot\u001b[0m \u001b[1;32mNone\u001b[0m\u001b[1;33m:\u001b[0m\u001b[1;33m\u001b[0m\u001b[0m\n",
      "\u001b[1;31mKeyboardInterrupt\u001b[0m: "
     ]
    }
   ],
   "source": [
    "#Train\n",
    "train(epochs)"
   ]
  },
  {
   "cell_type": "code",
   "execution_count": null,
   "metadata": {},
   "outputs": [],
   "source": [
    "torch.save(model.state_dict(), \"LSTMtrained.pth\")"
   ]
  }
 ],
 "metadata": {
  "kernelspec": {
   "display_name": "Python 3",
   "language": "python",
   "name": "python3"
  },
  "language_info": {
   "codemirror_mode": {
    "name": "ipython",
    "version": 3
   },
   "file_extension": ".py",
   "mimetype": "text/x-python",
   "name": "python",
   "nbconvert_exporter": "python",
   "pygments_lexer": "ipython3",
   "version": "3.5.6"
  }
 },
 "nbformat": 4,
 "nbformat_minor": 2
}
