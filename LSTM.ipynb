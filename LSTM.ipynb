{
 "cells": [
  {
   "cell_type": "code",
   "execution_count": 1,
   "metadata": {},
   "outputs": [],
   "source": [
    "import random\n",
    "import numpy as np\n",
    "import torch\n",
    "import torch.nn as nn\n",
    "import torch.nn.functional as F\n",
    "from torch.autograd import Variable\n",
    "\n",
    "#Run on GPU\n",
    "device = torch.device(\"cuda\" if torch.cuda.is_available() else \"cpu\")"
   ]
  },
  {
   "cell_type": "code",
   "execution_count": 25,
   "metadata": {},
   "outputs": [
    {
     "name": "stdout",
     "output_type": "stream",
     "text": [
      "Dataset size: torch.Size([34131372, 1, 55])\n",
      "Integer dataset size: torch.Size([34131372])\n"
     ]
    }
   ],
   "source": [
    "#Load SMILES data as integer labels and as one-hot encoding\n",
    "data = np.load(\"ohesmiles.npz\")\n",
    "data = data[\"arr_0\"]\n",
    "\n",
    "intdata = np.load(\"intsmiles.npz\")\n",
    "intdata = intdata[\"arr_0\"]\n",
    "\n",
    "data = torch.from_numpy(data).view(np.shape(data)[0], 1, np.shape(data)[1])\n",
    "intdata = torch.from_numpy(intdata)\n",
    "print(\"Dataset size: \" + str(data.size()))\n",
    "print(\"Integer dataset size: \" + str(intdata.size()))"
   ]
  },
  {
   "cell_type": "code",
   "execution_count": 3,
   "metadata": {},
   "outputs": [],
   "source": [
    "#Get input tensor\n",
    "def inp(i, shuffle):\n",
    "    \n",
    "    #Input (does not include last character in SMILES)\n",
    "    inp = data[int(shuffle[i] * seq_length) : int((shuffle[i] * seq_length) + seq_length - 1), :, :]\n",
    "\n",
    "    return inp"
   ]
  },
  {
   "cell_type": "code",
   "execution_count": 32,
   "metadata": {},
   "outputs": [],
   "source": [
    "#Get target tensor\n",
    "def target(i, shuffle):\n",
    "    \n",
    "    #Target (does not include first character in SMILES)\n",
    "    target = intdata[int((shuffle[i] * seq_length) + 1) : int((shuffle[i] * seq_length) + seq_length)]\n",
    "\n",
    "    return target"
   ]
  },
  {
   "cell_type": "code",
   "execution_count": 27,
   "metadata": {},
   "outputs": [],
   "source": [
    "#Define model\n",
    "class Model(nn.Module):\n",
    "    \n",
    "    #Define model parameters\n",
    "    def __init__(self, input_size, hidden_size, num_layers, dropout):\n",
    "        super(Model, self).__init__()\n",
    "        \n",
    "        self.input_size = input_size\n",
    "        self.hidden_size = hidden_size\n",
    "        self.num_layers = num_layers\n",
    "        self.dropout = dropout\n",
    "        \n",
    "        self.lstm = nn.LSTM(input_size = input_size, hidden_size = hidden_size, num_layers = num_layers, dropout = dropout)\n",
    "        self.linear = nn.Linear(hidden_size, input_size)\n",
    "    \n",
    "    #Define forward propagation\n",
    "    def forward(self, inp, hidden):\n",
    "        output, hidden = self.lstm(inp, hidden)\n",
    "        output = self.linear(output)\n",
    "        return output, hidden\n",
    "        \n",
    "    #Define initial hidden and cell states\n",
    "    def init_states(self, num_layers, hidden_size):\n",
    "        hidden = (Variable(torch.zeros(num_layers, 1, hidden_size)),\n",
    "                  Variable(torch.zeros(num_layers, 1, hidden_size)))\n",
    "        \n",
    "        return hidden\n",
    "        \n",
    "        "
   ]
  },
  {
   "cell_type": "code",
   "execution_count": null,
   "metadata": {},
   "outputs": [],
   "source": [
    "#Define training\n",
    "def train(epochs):\n",
    "    \n",
    "    #Initialize hidden and cell states\n",
    "    hidden = model.init_states(num_layers, hidden_size)\n",
    "    \n",
    "    #Iterate over desired number of epochs \n",
    "    for e in range(epochs):\n",
    "        #Get random order of SMILES molecules (shuffle data)\n",
    "        shuffle = np.arange(np.shape(data)[0] / seq_length)\n",
    "        random.shuffle(shuffle)\n",
    "        \n",
    "        #Set initial gradients\n",
    "        model.zero_grad()\n",
    "    \n",
    "        #Set initial loss\n",
    "        loss = 0 \n",
    "        \n",
    "        #Iterate over each molecule in dataset\n",
    "        for i in range(int(np.shape(data)[0] / seq_length)):\n",
    "            \n",
    "            #Get input and target\n",
    "            input_data = inp(i, shuffle).float()\n",
    "            target_data = target(i, shuffle).long()\n",
    "                \n",
    "            #Run model, calculate loss\n",
    "            output, hidden = model(input_data, hidden)\n",
    "            loss += criterion(output.squeeze(), target_data.squeeze())\n",
    "                \n",
    "            #Backpropagate loss\n",
    "            loss.backward(retain_graph=True)\n",
    "            optimizer.step()\n",
    "\n",
    "            print(loss.data.item())\n",
    "                "
   ]
  },
  {
   "cell_type": "code",
   "execution_count": null,
   "metadata": {},
   "outputs": [],
   "source": [
    "#Initialize model parameters\n",
    "input_size = np.shape(data)[2]\n",
    "hidden_size = 256\n",
    "num_layers = 3\n",
    "dropout = 0.2\n",
    "learning_rate = 0.001\n",
    "epochs = 10\n",
    "seq_length = 76"
   ]
  },
  {
   "cell_type": "code",
   "execution_count": null,
   "metadata": {},
   "outputs": [],
   "source": [
    "#Call model, set optimizer and loss function\n",
    "model = Model(input_size, hidden_size, num_layers, dropout)\n",
    "optimizer = torch.optim.Adam(model.parameters(), lr = learning_rate)\n",
    "criterion = nn.CrossEntropyLoss()"
   ]
  },
  {
   "cell_type": "code",
   "execution_count": null,
   "metadata": {},
   "outputs": [],
   "source": [
    "#Train\n",
    "train(epochs)"
   ]
  },
  {
   "cell_type": "code",
   "execution_count": null,
   "metadata": {},
   "outputs": [],
   "source": []
  }
 ],
 "metadata": {
  "kernelspec": {
   "display_name": "Python 3",
   "language": "python",
   "name": "python3"
  },
  "language_info": {
   "codemirror_mode": {
    "name": "ipython",
    "version": 3
   },
   "file_extension": ".py",
   "mimetype": "text/x-python",
   "name": "python",
   "nbconvert_exporter": "python",
   "pygments_lexer": "ipython3",
   "version": "3.5.6"
  }
 },
 "nbformat": 4,
 "nbformat_minor": 2
}
