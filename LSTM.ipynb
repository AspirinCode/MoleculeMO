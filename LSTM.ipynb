{
 "cells": [
  {
   "cell_type": "code",
   "execution_count": 1,
   "metadata": {},
   "outputs": [
    {
     "name": "stdout",
     "output_type": "stream",
     "text": [
      "Device = cuda\n"
     ]
    }
   ],
   "source": [
    "import random\n",
    "import numpy as np\n",
    "import torch\n",
    "import torch.nn as nn\n",
    "import torch.nn.functional as F\n",
    "from torch.autograd import Variable\n",
    "import time\n",
    "import sys\n",
    "\n",
    "#Set device\n",
    "USE_CUDA = torch.cuda.is_available()\n",
    "if USE_CUDA:\n",
    "    device = torch.device(\"cuda\")\n",
    "    cuda = True\n",
    "else:\n",
    "    device = torch.device(\"cpu\")\n",
    "    cuda = False\n",
    "    \n",
    "print(\"Device =\",device)\n",
    "gpus = [0]"
   ]
  },
  {
   "cell_type": "code",
   "execution_count": 2,
   "metadata": {},
   "outputs": [],
   "source": [
    "def time_elapsed(start_time):\n",
    "    elapsed = time.time() - start_time\n",
    "    hours = int(elapsed/3600)\n",
    "    minutes = int(int(elapsed/60)%60)\n",
    "    seconds = int(elapsed%60)\n",
    "    \n",
    "    return hours, minutes, seconds"
   ]
  },
  {
   "cell_type": "code",
   "execution_count": 3,
   "metadata": {},
   "outputs": [
    {
     "name": "stdout",
     "output_type": "stream",
     "text": [
      "Dataset size: torch.Size([34131372, 1, 55])\n",
      "Integer dataset size: torch.Size([34131372])\n"
     ]
    }
   ],
   "source": [
    "#Load SMILES data as integer labels and as one-hot encoding\n",
    "data = np.load(\"ohesmiles.npz\")\n",
    "data = data[\"arr_0\"]\n",
    "\n",
    "intdata = np.load(\"intsmiles.npz\")\n",
    "intdata = intdata[\"arr_0\"]\n",
    "\n",
    "data = torch.from_numpy(data).view(np.shape(data)[0], 1, np.shape(data)[1])\n",
    "intdata = torch.from_numpy(intdata)\n",
    "\n",
    "print(\"Dataset size: \" + str(data.size()))\n",
    "print(\"Integer dataset size: \" + str(intdata.size()))"
   ]
  },
  {
   "cell_type": "code",
   "execution_count": 109,
   "metadata": {},
   "outputs": [],
   "source": [
    "#Get input tensor\n",
    "def inptarg(i, shuffle, batch_size):\n",
    "    \n",
    "    #Define input and target tensor sizes\n",
    "    inp = torch.Tensor((seq_length - 1) * batch_size, 1, np.shape(data)[2])\n",
    "    target = torch.Tensor((seq_length - 1) * batch_size)\n",
    "    \n",
    "    #SMILES molecules in batch \n",
    "    inputs = data[int(shuffle[i] * seq_length) : int((shuffle[i] * seq_length) + (seq_length * batch_size)), :, :]\n",
    "    targets = intdata[int(shuffle[i] * seq_length) : int((shuffle[i] * seq_length) + (seq_length * batch_size))]\n",
    "    \n",
    "    #Index counters for input, target\n",
    "    r = 0\n",
    "    s = 0 \n",
    "    for p in range(seq_length * batch_size - 1):\n",
    "        \n",
    "        if (p % 76 != 75):\n",
    "            #Input data (does not include last character in SMILES)\n",
    "            inp[r, :, :] = inputs[p, :, :]\n",
    "            r += 1\n",
    "            \n",
    "        if (p % 76 != 0):\n",
    "            #Target data (does not include first character in SMILES)\n",
    "            target[s] = targets[p]\n",
    "            s += 1\n",
    "\n",
    "    return inp, target"
   ]
  },
  {
   "cell_type": "code",
   "execution_count": 5,
   "metadata": {},
   "outputs": [],
   "source": [
    "#Get target tensor\n",
    "def target(i, shuffle):\n",
    "    \n",
    "    #Target (does not include first character in SMILES)\n",
    "    target = intdata[int((shuffle[i] * seq_length) + 1) : int((shuffle[i] * seq_length) + seq_length)]\n",
    "\n",
    "    return target"
   ]
  },
  {
   "cell_type": "code",
   "execution_count": 6,
   "metadata": {},
   "outputs": [],
   "source": [
    "#Define model\n",
    "class Model(nn.Module):\n",
    "    \n",
    "    #Define model parameters\n",
    "    def __init__(self, input_size, hidden_size, num_layers, dropout):\n",
    "        super(Model, self).__init__()\n",
    "        \n",
    "        self.input_size = input_size\n",
    "        self.hidden_size = hidden_size\n",
    "        self.num_layers = num_layers\n",
    "        self.dropout = dropout\n",
    "        \n",
    "        self.lstm = nn.LSTM(input_size = input_size, hidden_size = hidden_size, num_layers = num_layers, dropout = dropout)\n",
    "        self.linear = nn.Linear(hidden_size, input_size)\n",
    "        \n",
    "        self.cuda()  \n",
    "        \n",
    "    #Define initial hidden and cell states\n",
    "    def init_states(self, num_layers, hidden_size):\n",
    "        hidden = [Variable(torch.zeros(num_layers, 1, hidden_size)),\n",
    "                  Variable(torch.zeros(num_layers, 1, hidden_size))]\n",
    "        \n",
    "        return hidden\n",
    "    \n",
    "    #Define forward propagation\n",
    "    def forward(self, inp, hidden):\n",
    "        output, hidden = self.lstm(inp, hidden)\n",
    "        output = self.linear(output)\n",
    "        \n",
    "        return output, hidden\n",
    "    "
   ]
  },
  {
   "cell_type": "code",
   "execution_count": 7,
   "metadata": {},
   "outputs": [
    {
     "name": "stdout",
     "output_type": "stream",
     "text": [
      "[('Model', 1016), ('Variable', 1016), ('inp', 136), ('target', 136), ('time_elapsed', 136), ('F', 80), ('nn', 80), ('np', 80), ('data', 72), ('gpus', 72), ('intdata', 72), ('USE_CUDA', 28), ('cuda', 28), ('device', 24)]\n"
     ]
    }
   ],
   "source": [
    "ipython_vars = ['In', 'Out', 'exit', 'quit', 'get_ipython', 'ipython_vars']\n",
    "print(sorted([(x, sys.getsizeof(globals().get(x))) for x in dir() if not x.startswith('_') and x not in sys.modules and x not in ipython_vars], key=lambda x: x[1], reverse=True))"
   ]
  },
  {
   "cell_type": "code",
   "execution_count": 122,
   "metadata": {},
   "outputs": [],
   "source": [
    "#Set start time\n",
    "start_time = time.time()\n",
    "\n",
    "#Define training\n",
    "def train(epochs):\n",
    "    #Iterate over desired number of epochs \n",
    "    for e in range(epochs):\n",
    "        \n",
    "        #Get random order of SMILES molecules (shuffle data)\n",
    "        shuffle = np.arange(np.shape(data)[0] / seq_length)\n",
    "        random.shuffle(shuffle)\n",
    "        \n",
    "        #Iterate over each molecule in dataset\n",
    "        for i in range(int(np.shape(data)[0] / seq_length)):\n",
    "            \n",
    "            #Initialize hidden and cell states\n",
    "            hidden = model.init_states(num_layers, hidden_size)\n",
    "            \n",
    "            #Run on GPU if available\n",
    "            if cuda:\n",
    "                hidden = (hidden[0].cuda(), hidden[1].cuda())\n",
    "        \n",
    "            #Set initial gradients\n",
    "            model.zero_grad()\n",
    "    \n",
    "            #Set initial loss\n",
    "            loss = 0 \n",
    "            \n",
    "            #Get input and target\n",
    "            input_data, target_data = inptarg(i, shuffle, batch_size)\n",
    "            input_data = input_data.float()\n",
    "            target_data = target_data.long()\n",
    "            \n",
    "            #Run on GPU if available\n",
    "            if cuda:\n",
    "                input_data = input_data.cuda()\n",
    "                target_data = target_data.cuda()\n",
    "                \n",
    "            #Run model, calculate loss\n",
    "            output, hidden = model(input_data, hidden)\n",
    "            loss += criterion(output.squeeze(), target_data.squeeze())\n",
    "                \n",
    "            #Backpropagate loss\n",
    "            loss.backward()\n",
    "            optimizer.step()\n",
    "            \n",
    "            if (e == i == 0):\n",
    "                losses[0] = loss.data.item() / seq_length\n",
    "                \n",
    "            losses.append(loss.data.item() / seq_length)\n",
    "            hours, minutes, seconds = time_elapsed(start_time)\n",
    "            print(\"Loss: {:0.6f}\".format(loss.data.item() / seq_length) + \" | ΔLossTotal: {:+0.4f}\".format(losses[-1] - losses[1]) + \" | Epoch: {0:02d}\".format(e + 1) + \" | Iteration: {0:04d}\".format(i + 1) + \" | Time elapsed: {0:02d}\".format(hours) + \"h {0:02d}\".format(minutes) + \" m {0:02d}\".format(seconds) + \" s\")\n",
    "        "
   ]
  },
  {
   "cell_type": "code",
   "execution_count": 123,
   "metadata": {},
   "outputs": [],
   "source": [
    "#Initialize model parameters\n",
    "input_size = np.shape(data)[2]\n",
    "hidden_size = 256\n",
    "num_layers = 3\n",
    "dropout = .2\n",
    "learning_rate = 0.001\n",
    "epochs = 10\n",
    "seq_length = 76\n",
    "batch_size = 32\n",
    "\n",
    "#List of losses\n",
    "losses = [0]"
   ]
  },
  {
   "cell_type": "code",
   "execution_count": 124,
   "metadata": {},
   "outputs": [],
   "source": [
    "#Call model, set optimizer and loss function\n",
    "model = Model(input_size, hidden_size, num_layers, dropout)\n",
    "optimizer = torch.optim.Adam(model.parameters(), lr = learning_rate)\n",
    "criterion = nn.CrossEntropyLoss()\n",
    "\n",
    "#Run on GPU if available\n",
    "if cuda:\n",
    "    model.cuda()\n",
    "    criterion.cuda()  "
   ]
  },
  {
   "cell_type": "code",
   "execution_count": 125,
   "metadata": {},
   "outputs": [
    {
     "name": "stdout",
     "output_type": "stream",
     "text": [
      "Total number of parameters in network: 1387319\n"
     ]
    }
   ],
   "source": [
    "#Total number of parameters\n",
    "total_params = sum(p.numel() for p in model.parameters())\n",
    "print(\"Total number of parameters in network: \" + str(total_params))"
   ]
  },
  {
   "cell_type": "code",
   "execution_count": 126,
   "metadata": {
    "scrolled": true
   },
   "outputs": [
    {
     "name": "stdout",
     "output_type": "stream",
     "text": [
      "Loss: 0.052775 | ΔLossTotal: +0.0000 | Epoch: 01 | Iteration: 0001 | Time elapsed: 00h 00 m 04 s\n",
      "Loss: 0.052220 | ΔLossTotal: -0.0006 | Epoch: 01 | Iteration: 0002 | Time elapsed: 00h 00 m 05 s\n",
      "Loss: 0.051670 | ΔLossTotal: -0.0011 | Epoch: 01 | Iteration: 0003 | Time elapsed: 00h 00 m 06 s\n",
      "Loss: 0.050773 | ΔLossTotal: -0.0020 | Epoch: 01 | Iteration: 0004 | Time elapsed: 00h 00 m 08 s\n",
      "Loss: 0.049238 | ΔLossTotal: -0.0035 | Epoch: 01 | Iteration: 0005 | Time elapsed: 00h 00 m 09 s\n",
      "Loss: 0.046624 | ΔLossTotal: -0.0062 | Epoch: 01 | Iteration: 0006 | Time elapsed: 00h 00 m 10 s\n",
      "Loss: 0.038117 | ΔLossTotal: -0.0147 | Epoch: 01 | Iteration: 0007 | Time elapsed: 00h 00 m 12 s\n",
      "Loss: 0.033112 | ΔLossTotal: -0.0197 | Epoch: 01 | Iteration: 0008 | Time elapsed: 00h 00 m 13 s\n"
     ]
    },
    {
     "ename": "KeyboardInterrupt",
     "evalue": "",
     "output_type": "error",
     "traceback": [
      "\u001b[1;31m---------------------------------------------------------------------------\u001b[0m",
      "\u001b[1;31mKeyboardInterrupt\u001b[0m                         Traceback (most recent call last)",
      "\u001b[1;32m<ipython-input-126-0645ca97616e>\u001b[0m in \u001b[0;36m<module>\u001b[1;34m()\u001b[0m\n\u001b[0;32m      1\u001b[0m \u001b[1;31m#Train\u001b[0m\u001b[1;33m\u001b[0m\u001b[1;33m\u001b[0m\u001b[0m\n\u001b[1;32m----> 2\u001b[1;33m \u001b[0mtrain\u001b[0m\u001b[1;33m(\u001b[0m\u001b[0mepochs\u001b[0m\u001b[1;33m)\u001b[0m\u001b[1;33m\u001b[0m\u001b[0m\n\u001b[0m",
      "\u001b[1;32m<ipython-input-122-39e54cc5f117>\u001b[0m in \u001b[0;36mtrain\u001b[1;34m(epochs)\u001b[0m\n\u001b[0;32m     42\u001b[0m \u001b[1;33m\u001b[0m\u001b[0m\n\u001b[0;32m     43\u001b[0m             \u001b[1;31m#Backpropagate loss\u001b[0m\u001b[1;33m\u001b[0m\u001b[1;33m\u001b[0m\u001b[0m\n\u001b[1;32m---> 44\u001b[1;33m             \u001b[0mloss\u001b[0m\u001b[1;33m.\u001b[0m\u001b[0mbackward\u001b[0m\u001b[1;33m(\u001b[0m\u001b[1;33m)\u001b[0m\u001b[1;33m\u001b[0m\u001b[0m\n\u001b[0m\u001b[0;32m     45\u001b[0m             \u001b[0moptimizer\u001b[0m\u001b[1;33m.\u001b[0m\u001b[0mstep\u001b[0m\u001b[1;33m(\u001b[0m\u001b[1;33m)\u001b[0m\u001b[1;33m\u001b[0m\u001b[0m\n\u001b[0;32m     46\u001b[0m \u001b[1;33m\u001b[0m\u001b[0m\n",
      "\u001b[1;32m~\\Anaconda3\\lib\\site-packages\\torch\\tensor.py\u001b[0m in \u001b[0;36mbackward\u001b[1;34m(self, gradient, retain_graph, create_graph)\u001b[0m\n\u001b[0;32m     91\u001b[0m                 \u001b[0mproducts\u001b[0m\u001b[1;33m.\u001b[0m \u001b[0mDefaults\u001b[0m \u001b[0mto\u001b[0m\u001b[0;31m \u001b[0m\u001b[0;31m`\u001b[0m\u001b[0;31m`\u001b[0m\u001b[1;32mFalse\u001b[0m\u001b[0;31m`\u001b[0m\u001b[0;31m`\u001b[0m\u001b[1;33m.\u001b[0m\u001b[1;33m\u001b[0m\u001b[0m\n\u001b[0;32m     92\u001b[0m         \"\"\"\n\u001b[1;32m---> 93\u001b[1;33m         \u001b[0mtorch\u001b[0m\u001b[1;33m.\u001b[0m\u001b[0mautograd\u001b[0m\u001b[1;33m.\u001b[0m\u001b[0mbackward\u001b[0m\u001b[1;33m(\u001b[0m\u001b[0mself\u001b[0m\u001b[1;33m,\u001b[0m \u001b[0mgradient\u001b[0m\u001b[1;33m,\u001b[0m \u001b[0mretain_graph\u001b[0m\u001b[1;33m,\u001b[0m \u001b[0mcreate_graph\u001b[0m\u001b[1;33m)\u001b[0m\u001b[1;33m\u001b[0m\u001b[0m\n\u001b[0m\u001b[0;32m     94\u001b[0m \u001b[1;33m\u001b[0m\u001b[0m\n\u001b[0;32m     95\u001b[0m     \u001b[1;32mdef\u001b[0m \u001b[0mregister_hook\u001b[0m\u001b[1;33m(\u001b[0m\u001b[0mself\u001b[0m\u001b[1;33m,\u001b[0m \u001b[0mhook\u001b[0m\u001b[1;33m)\u001b[0m\u001b[1;33m:\u001b[0m\u001b[1;33m\u001b[0m\u001b[0m\n",
      "\u001b[1;32m~\\Anaconda3\\lib\\site-packages\\torch\\autograd\\__init__.py\u001b[0m in \u001b[0;36mbackward\u001b[1;34m(tensors, grad_tensors, retain_graph, create_graph, grad_variables)\u001b[0m\n\u001b[0;32m     88\u001b[0m     Variable._execution_engine.run_backward(\n\u001b[0;32m     89\u001b[0m         \u001b[0mtensors\u001b[0m\u001b[1;33m,\u001b[0m \u001b[0mgrad_tensors\u001b[0m\u001b[1;33m,\u001b[0m \u001b[0mretain_graph\u001b[0m\u001b[1;33m,\u001b[0m \u001b[0mcreate_graph\u001b[0m\u001b[1;33m,\u001b[0m\u001b[1;33m\u001b[0m\u001b[0m\n\u001b[1;32m---> 90\u001b[1;33m         allow_unreachable=True)  # allow_unreachable flag\n\u001b[0m\u001b[0;32m     91\u001b[0m \u001b[1;33m\u001b[0m\u001b[0m\n\u001b[0;32m     92\u001b[0m \u001b[1;33m\u001b[0m\u001b[0m\n",
      "\u001b[1;31mKeyboardInterrupt\u001b[0m: "
     ]
    }
   ],
   "source": [
    "#Train\n",
    "train(epochs)"
   ]
  },
  {
   "cell_type": "code",
   "execution_count": null,
   "metadata": {},
   "outputs": [],
   "source": []
  }
 ],
 "metadata": {
  "kernelspec": {
   "display_name": "Python 3",
   "language": "python",
   "name": "python3"
  },
  "language_info": {
   "codemirror_mode": {
    "name": "ipython",
    "version": 3
   },
   "file_extension": ".py",
   "mimetype": "text/x-python",
   "name": "python",
   "nbconvert_exporter": "python",
   "pygments_lexer": "ipython3",
   "version": "3.5.6"
  }
 },
 "nbformat": 4,
 "nbformat_minor": 2
}
