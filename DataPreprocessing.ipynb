{
 "cells": [
  {
   "cell_type": "code",
   "execution_count": 4,
   "metadata": {},
   "outputs": [],
   "source": [
    "#Ensure all SMILES are unique, at most 74 characters in length before padding, and pad with start character \"{\" \n",
    "\n",
    "import hashlib\n",
    "\n",
    "completed_lines_hash = set()\n",
    "\n",
    "#Save processed data to SMILES.txt\n",
    "new = open(\"smiles.txt\", \"w\")\n",
    "\n",
    "#Read in data file line by line\n",
    "for line in open(\"data.txt\", \"r\"):\n",
    "  \n",
    "    #Ensure all smiles in original data file are unique\n",
    "    hashValue = hashlib.md5(line.rstrip().encode('utf-8')).hexdigest()\n",
    "  \n",
    "    if hashValue not in completed_lines_hash:\n",
    "        completed_lines_hash.add(hashValue)\n",
    "        \n",
    "        #Only copy SMILES less than 74 characters in length to new file\n",
    "        if len(line) < 74:\n",
    "            #Pad each SMILES with start character \"{\"\n",
    "            line = line.rjust(len(line)+1, \"{\")\n",
    "            #Pad each SMILES with end characters \"}\" to 75 characters\n",
    "            line = line.rstrip('\\n')\n",
    "            line = line.ljust(75, \"}\")\n",
    "            line = line + \"\\n\"\n",
    "            #Copy over SMILES satisfying requirements\n",
    "            new.write(line)\n",
    "    \n",
    "#Close files\n",
    "new.close()"
   ]
  },
  {
   "cell_type": "code",
   "execution_count": 5,
   "metadata": {},
   "outputs": [
    {
     "name": "stdout",
     "output_type": "stream",
     "text": [
      "Vocab size: 55\n",
      "Data size: 34131372\n",
      "Characters in data: ['=', 'Z', 'e', '3', '2', '@', '6', ')', 'O', 'N', '/', '\\\\', 'I', 'p', 'B', 's', '\\n', '#', '-', '(', 'L', '4', '.', '9', '8', 'V', 'M', 'g', '7', 'i', '1', 'b', 'P', 'A', 'K', 'H', '{', 'o', 'T', ']', 'S', 'F', 't', '}', 'r', 'u', 'l', 'a', 'C', '+', '5', 'R', '[', 'c', 'n']\n"
     ]
    }
   ],
   "source": [
    "#Read in processed data file\n",
    "data = open(\"smiles.txt\", \"r\").read()\n",
    "\n",
    "#Create a list of the unique characters in the dataset\n",
    "chars = list(set(data))\n",
    "\n",
    "#Get size (in characters) of dataset\n",
    "data_size = len(data) \n",
    "\n",
    "#Get number of unique characters in dataset\n",
    "vocab_size = len(chars)\n",
    "\n",
    "#Print dataset properties\n",
    "print(\"Vocab size: \" + str(vocab_size))\n",
    "print(\"Data size: \" + str(data_size))\n",
    "print(\"Characters in data: \" + str(chars))"
   ]
  },
  {
   "cell_type": "code",
   "execution_count": 6,
   "metadata": {},
   "outputs": [
    {
     "name": "stdout",
     "output_type": "stream",
     "text": [
      "Array of unique characters:\n",
      "['=' 'Z' 'e' '3' '2' '@' '6' ')' 'O' 'N' '/' '\\\\' 'I' 'p' 'B' 's' '\\n' '#'\n",
      " '-' '(' 'L' '4' '.' '9' '8' 'V' 'M' 'g' '7' 'i' '1' 'b' 'P' 'A' 'K' 'H'\n",
      " '{' 'o' 'T' ']' 'S' 'F' 't' '}' 'r' 'u' 'l' 'a' 'C' '+' '5' 'R' '[' 'c'\n",
      " 'n']\n",
      "Array of labels for each character:\n",
      "[17 35 42 10  9 18 13  3 29 28  7 37 24 48 20 50  0  1  5  2 26 11  6 16\n",
      " 15 34 27 43 14 44  8 40 30 19 25 23 53 47 33 38 32 22 51 54 49 52 45 39\n",
      " 21  4 12 31 36 41 46]\n",
      "Array of one-hot encoded characters:\n",
      "[[0. 0. 0. ... 0. 0. 0.]\n",
      " [0. 0. 0. ... 0. 0. 0.]\n",
      " [0. 0. 0. ... 0. 0. 0.]\n",
      " ...\n",
      " [0. 0. 0. ... 0. 0. 0.]\n",
      " [0. 0. 0. ... 0. 0. 0.]\n",
      " [0. 0. 0. ... 0. 0. 0.]]\n",
      "Size of array of one-hot encoded characters: (55, 55)\n"
     ]
    },
    {
     "name": "stderr",
     "output_type": "stream",
     "text": [
      "C:\\Users\\jake\\Anaconda3\\lib\\site-packages\\sklearn\\preprocessing\\_encoders.py:363: FutureWarning: The handling of integer data will change in version 0.22. Currently, the categories are determined based on the range [0, max(values)], while in the future they will be determined based on the unique values.\n",
      "If you want the future behaviour and silence this warning, you can specify \"categories='auto'\".\n",
      "In case you used a LabelEncoder before this OneHotEncoder to convert the categories to integers, then you can now use the OneHotEncoder directly.\n",
      "  warnings.warn(msg, FutureWarning)\n"
     ]
    }
   ],
   "source": [
    "import numpy as np\n",
    "from numpy import array\n",
    "from numpy import argmax\n",
    "from sklearn.preprocessing import LabelEncoder\n",
    "from sklearn.preprocessing import OneHotEncoder\n",
    "\n",
    "#Create array from characters in the dataset\n",
    "values = array(chars)\n",
    "print(\"Array of unique characters:\")\n",
    "print(values)\n",
    "\n",
    "#Create unique, numerical labels for each character between 0 and n-1, where n is the number of unique characters\n",
    "label_encoder = LabelEncoder()\n",
    "integer_encoded = label_encoder.fit_transform(values)\n",
    "print(\"Array of labels for each character:\")\n",
    "print(integer_encoded)\n",
    "\n",
    "#Encode characters into a one-hot encoding, resulting in an array of size [num unique chars, num unique chars]\n",
    "onehot_encoder = OneHotEncoder(sparse=False)\n",
    "integer_encoded = integer_encoded.reshape(len(integer_encoded), 1)\n",
    "onehot_encoded = onehot_encoder.fit_transform(integer_encoded)\n",
    "print(\"Array of one-hot encoded characters:\")\n",
    "print(onehot_encoded)\n",
    "print(\"Size of array of one-hot encoded characters: \" + str(onehot_encoded.shape))"
   ]
  },
  {
   "cell_type": "code",
   "execution_count": 7,
   "metadata": {},
   "outputs": [
    {
     "name": "stdout",
     "output_type": "stream",
     "text": [
      "Size of one-hot encoded array of data: (34131372, 55)\n",
      "One-hot encoded array of data:\n",
      "[[0 0 0 ... 0 1 0]\n",
      " [0 0 0 ... 0 0 0]\n",
      " [0 0 0 ... 0 0 0]\n",
      " ...\n",
      " [0 0 0 ... 0 0 1]\n",
      " [0 0 0 ... 0 0 1]\n",
      " [1 0 0 ... 0 0 0]]\n"
     ]
    }
   ],
   "source": [
    "#Read in processed data file\n",
    "data = open(\"smiles.txt\", \"r\").read()\n",
    "\n",
    "#Create a list of the dataset\n",
    "datalist = list(data)\n",
    "\n",
    "#Create an array of the dataset\n",
    "dataarray = array(datalist)\n",
    "\n",
    "#Fit one-hot encoding to dataarray\n",
    "dataarray = dataarray.reshape(len(dataarray), 1)\n",
    "OHESMILES = onehot_encoder.fit_transform(dataarray).astype(int)\n",
    "print(\"Size of one-hot encoded array of data: \" + str(OHESMILES.shape))\n",
    "print(\"One-hot encoded array of data:\")\n",
    "print(OHESMILES)"
   ]
  },
  {
   "cell_type": "code",
   "execution_count": 8,
   "metadata": {},
   "outputs": [],
   "source": [
    "#Save OHESMILES as a (compressed) file\n",
    "np.savez_compressed(\"ohesmiles.npz\", OHESMILES)"
   ]
  },
  {
   "cell_type": "code",
   "execution_count": null,
   "metadata": {},
   "outputs": [],
   "source": []
  }
 ],
 "metadata": {
  "kernelspec": {
   "display_name": "Python 3",
   "language": "python",
   "name": "python3"
  },
  "language_info": {
   "codemirror_mode": {
    "name": "ipython",
    "version": 3
   },
   "file_extension": ".py",
   "mimetype": "text/x-python",
   "name": "python",
   "nbconvert_exporter": "python",
   "pygments_lexer": "ipython3",
   "version": "3.5.6"
  }
 },
 "nbformat": 4,
 "nbformat_minor": 2
}
