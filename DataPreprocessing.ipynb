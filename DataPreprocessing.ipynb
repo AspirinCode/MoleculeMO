{
 "cells": [
  {
   "cell_type": "code",
   "execution_count": 6,
   "metadata": {
    "scrolled": true
   },
   "outputs": [],
   "source": [
    "import hashlib\n",
    "import numpy as np\n",
    "from numpy import array\n",
    "\n",
    "completed_lines_hash = set()\n",
    "\n",
    "completed_lines_hash = set()\n",
    "\n",
    "#Save processed data to SMILES.txt\n",
    "new = open(\"smiles.txt\", \"w\")\n",
    "\n",
    "#Read in data file line by line\n",
    "for line in open(\"data.txt\", \"r\"):\n",
    "  \n",
    "    #Ensure all smiles in original data file are unique\n",
    "    hashValue = hashlib.md5(line.rstrip().encode('utf-8')).hexdigest()\n",
    "  \n",
    "    if hashValue not in completed_lines_hash:\n",
    "        completed_lines_hash.add(hashValue)\n",
    "        \n",
    "        #Ensure all SMILES are between 35 and 75 characters in length\n",
    "        if 33 < len(line) < 75:\n",
    "            #Add start token\n",
    "            line = line.rjust(len(line)+1, \"G\")\n",
    "            \n",
    "            #Remove \"\\n\" characters, add end token\n",
    "            line = line.rstrip('\\n') + \"E\"\n",
    "\n",
    "            #Copy over SMILES satisfying requirements\n",
    "            new.write(line)\n",
    "    \n",
    "#Close files\n",
    "new.close()"
   ]
  },
  {
   "cell_type": "code",
   "execution_count": 7,
   "metadata": {},
   "outputs": [
    {
     "name": "stdout",
     "output_type": "stream",
     "text": [
      "Vocab size: 53\n",
      "Data size: 25246858\n",
      "Characters in data: ['3', 'H', 'g', '5', 'l', '6', 'L', '/', 'F', 'c', '.', 'b', 'p', 'R', '[', '9', 'S', 'N', 'e', 'Z', '@', '7', '1', 'C', 'O', '=', '(', '-', 'i', 'o', 'V', '4', 'G', 'n', ']', 'K', 't', '#', 'B', 'P', '8', '2', ')', '+', '\\\\', 's', 'a', 'T', 'A', 'r', 'M', 'I', 'E']\n"
     ]
    }
   ],
   "source": [
    "#Read in processed data file\n",
    "data = open(\"smiles.txt\", \"r\").read()\n",
    "\n",
    "#Create a list of the unique characters in the dataset\n",
    "chars = list(set(data))\n",
    "\n",
    "#Get size (in characters) of dataset\n",
    "data_size = len(data) \n",
    "\n",
    "#Get number of unique characters in dataset\n",
    "vocab_size = len(chars)\n",
    "\n",
    "#Print dataset properties\n",
    "print(\"Vocab size: \" + str(vocab_size))\n",
    "print(\"Data size: \" + str(data_size))\n",
    "print(\"Characters in data: \" + str(chars))"
   ]
  },
  {
   "cell_type": "code",
   "execution_count": 8,
   "metadata": {},
   "outputs": [
    {
     "name": "stdout",
     "output_type": "stream",
     "text": [
      "Array of unique characters:\n",
      "['3' 'H' 'g' '5' 'l' '6' 'L' '/' 'F' 'c' '.' 'b' 'p' 'R' '[' '9' 'S' 'N'\n",
      " 'e' 'Z' '@' '7' '1' 'C' 'O' '=' '(' '-' 'i' 'o' 'V' '4' 'G' 'n' ']' 'K'\n",
      " 't' '#' 'B' 'P' '8' '2' ')' '+' '\\\\' 's' 'a' 'T' 'A' 'r' 'M' 'I' 'E']\n",
      "Array of labels for each character:\n",
      "[ 9 24 44 11 46 12 27  6 22 42  5 41 49 32 37 15 33 29 43 36 17 13  7 20\n",
      " 30 16  1  4 45 48 35 10 23 47 39 26 52  0 19 31 14  8  2  3 38 51 40 34\n",
      " 18 50 28 25 21]\n",
      "Array of one-hot encoded characters:\n",
      "[[0. 0. 0. ... 0. 0. 0.]\n",
      " [0. 0. 0. ... 0. 0. 0.]\n",
      " [0. 0. 0. ... 0. 0. 0.]\n",
      " ...\n",
      " [0. 0. 0. ... 0. 0. 0.]\n",
      " [0. 0. 0. ... 0. 0. 0.]\n",
      " [0. 0. 0. ... 0. 0. 0.]]\n",
      "Size of array of one-hot encoded characters: (53, 53)\n"
     ]
    },
    {
     "name": "stderr",
     "output_type": "stream",
     "text": [
      "C:\\Users\\jake\\Anaconda3\\lib\\site-packages\\sklearn\\preprocessing\\_encoders.py:363: FutureWarning: The handling of integer data will change in version 0.22. Currently, the categories are determined based on the range [0, max(values)], while in the future they will be determined based on the unique values.\n",
      "If you want the future behaviour and silence this warning, you can specify \"categories='auto'\".\n",
      "In case you used a LabelEncoder before this OneHotEncoder to convert the categories to integers, then you can now use the OneHotEncoder directly.\n",
      "  warnings.warn(msg, FutureWarning)\n"
     ]
    }
   ],
   "source": [
    "from numpy import argmax\n",
    "from sklearn.preprocessing import LabelEncoder\n",
    "from sklearn.preprocessing import OneHotEncoder\n",
    "\n",
    "#Create array from characters in the dataset\n",
    "values = array(chars)\n",
    "print(\"Array of unique characters:\")\n",
    "print(values)\n",
    "\n",
    "#Create unique, numerical labels for each character between 0 and n-1, where n is the number of unique characters\n",
    "label_encoder = LabelEncoder()\n",
    "integer_encoded = label_encoder.fit_transform(values)\n",
    "print(\"Array of labels for each character:\")\n",
    "print(integer_encoded)\n",
    "\n",
    "#Encode characters into a one-hot encoding, resulting in an array of size [num unique chars, num unique chars]\n",
    "onehot_encoder = OneHotEncoder(sparse=False)\n",
    "integer_encoded = integer_encoded.reshape(len(integer_encoded), 1)\n",
    "onehot_encoded = onehot_encoder.fit_transform(integer_encoded)\n",
    "print(\"Array of one-hot encoded characters:\")\n",
    "print(onehot_encoded)\n",
    "print(\"Size of array of one-hot encoded characters: \" + str(onehot_encoded.shape))"
   ]
  },
  {
   "cell_type": "code",
   "execution_count": 9,
   "metadata": {},
   "outputs": [
    {
     "name": "stdout",
     "output_type": "stream",
     "text": [
      "Size of one-hot encoded array of data: (25246858, 53)\n",
      "One-hot encoded array of data:\n",
      "[[0 0 0 ... 0 0 0]\n",
      " [0 0 0 ... 0 0 0]\n",
      " [0 0 0 ... 0 0 0]\n",
      " ...\n",
      " [0 0 0 ... 0 0 0]\n",
      " [0 0 0 ... 0 0 0]\n",
      " [0 0 0 ... 0 0 0]]\n"
     ]
    }
   ],
   "source": [
    "#Read in processed data file\n",
    "data = open(\"smiles.txt\", \"r\").read()\n",
    "#Create a list of the dataset\n",
    "datalist = list(data)\n",
    "#Create an array of the dataset\n",
    "dataarray = array(datalist)\n",
    "#Fit one-hot encoding to dataarray\n",
    "dataarray = dataarray.reshape(len(dataarray), 1)\n",
    "OHESMILES = onehot_encoder.fit_transform(dataarray).astype(int)\n",
    "print(\"Size of one-hot encoded array of data: \" + str(OHESMILES.shape))\n",
    "print(\"One-hot encoded array of data:\")\n",
    "print(OHESMILES)"
   ]
  },
  {
   "cell_type": "code",
   "execution_count": 10,
   "metadata": {},
   "outputs": [],
   "source": [
    "#Save OHESMILES as a (compressed) file\n",
    "np.savez_compressed(\"ohesmiles.npz\", OHESMILES)"
   ]
  },
  {
   "cell_type": "code",
   "execution_count": 11,
   "metadata": {},
   "outputs": [],
   "source": [
    "#Create integer SMILES data\n",
    "INTSMILES = [np.where(r==1)[0][0] for r in OHESMILES]"
   ]
  },
  {
   "cell_type": "code",
   "execution_count": 12,
   "metadata": {},
   "outputs": [],
   "source": [
    "#Save INTSMILES as a (compressed) file\n",
    "np.savez_compressed(\"intsmiles.npz\", INTSMILES)"
   ]
  },
  {
   "cell_type": "code",
   "execution_count": 13,
   "metadata": {},
   "outputs": [
    {
     "name": "stdout",
     "output_type": "stream",
     "text": [
      "(53, 55)\n"
     ]
    }
   ],
   "source": [
    "#Save array with SMILES character, integer encoding, and one hot encoding (vocabulary)\n",
    "values = np.reshape(values, (np.shape(values)[0], 1))\n",
    "vocab = np.concatenate((values, integer_encoded.astype(object)), axis = 1)\n",
    "vocab = vocab[vocab[:,1].argsort()]\n",
    "vocabvalues = np.reshape(vocab[:,1], (-1,1))\n",
    "vocabohe = onehot_encoder.fit_transform(vocabvalues)\n",
    "vocabencodings = np.concatenate((vocab, vocabohe.astype(object)), axis = 1)\n",
    "print(np.shape(vocabencodings))\n",
    "\n",
    "np.save(\"vocab.npy\", vocabencodings)"
   ]
  },
  {
   "cell_type": "code",
   "execution_count": 14,
   "metadata": {},
   "outputs": [
    {
     "name": "stdout",
     "output_type": "stream",
     "text": [
      "[['#' 0 1.0 ... 0.0 0.0 0.0]\n",
      " ['(' 1 0.0 ... 0.0 0.0 0.0]\n",
      " [')' 2 0.0 ... 0.0 0.0 0.0]\n",
      " ...\n",
      " ['r' 50 0.0 ... 1.0 0.0 0.0]\n",
      " ['s' 51 0.0 ... 0.0 1.0 0.0]\n",
      " ['t' 52 0.0 ... 0.0 0.0 1.0]]\n"
     ]
    }
   ],
   "source": [
    "print(vocabencodings)"
   ]
  },
  {
   "cell_type": "code",
   "execution_count": null,
   "metadata": {},
   "outputs": [],
   "source": []
  }
 ],
 "metadata": {
  "kernelspec": {
   "display_name": "Python 3",
   "language": "python",
   "name": "python3"
  },
  "language_info": {
   "codemirror_mode": {
    "name": "ipython",
    "version": 3
   },
   "file_extension": ".py",
   "mimetype": "text/x-python",
   "name": "python",
   "nbconvert_exporter": "python",
   "pygments_lexer": "ipython3",
   "version": "3.5.6"
  }
 },
 "nbformat": 4,
 "nbformat_minor": 2
}
