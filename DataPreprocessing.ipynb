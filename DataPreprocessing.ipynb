{
 "cells": [
  {
   "cell_type": "code",
   "execution_count": 2,
   "metadata": {},
   "outputs": [],
   "source": [
    "#Ensure all SMILES are unique, at most 74 characters in length before padding, and pad with start character \"{\" \n",
    "\n",
    "import hashlib\n",
    "\n",
    "completed_lines_hash = set()\n",
    "\n",
    "#Save processed data to SMILES.txt\n",
    "new = open(\"SMILES.txt\", \"w\")\n",
    "\n",
    "#Read in data file line by line\n",
    "for line in open(\"data.txt\", \"r\"):\n",
    "  \n",
    "    #Ensure all smiles in original data file are unique\n",
    "    hashValue = hashlib.md5(line.rstrip().encode('utf-8')).hexdigest()\n",
    "  \n",
    "    if hashValue not in completed_lines_hash:\n",
    "        completed_lines_hash.add(hashValue)\n",
    "        \n",
    "        #Only copy SMILES less than 75 characters in length to new file\n",
    "        if len(line) < 75:\n",
    "            #Pad each SMILES with start character \"{\"\n",
    "            line = line.rjust(len(line)+1, \"{\")\n",
    "            #Copy over SMILES satisfying requirements\n",
    "            new.write(line)\n",
    "    \n",
    "#Close files\n",
    "new.close()"
   ]
  },
  {
   "cell_type": "code",
   "execution_count": 26,
   "metadata": {},
   "outputs": [
    {
     "name": "stdout",
     "output_type": "stream",
     "text": [
      "Vocab size: 54\n",
      "Data size: 21981771\n",
      "Characters in data: ['7', 'l', '/', 'M', '2', 'p', ']', 's', '{', '+', '-', 'o', 'K', '@', 'H', '.', 'A', 'T', 't', 'Z', '3', 'c', '\\n', 'P', 'R', ')', '6', 'C', 'I', 'r', 'L', 'B', '5', '4', 'b', 'O', 'g', 'S', 'N', '8', 'e', 'V', 'a', 'u', '1', '(', '=', 'n', '[', '9', '\\\\', '#', 'i', 'F']\n"
     ]
    }
   ],
   "source": [
    "#Read in processed data file\n",
    "data = open(\"SMILES.txt\", \"r\").read()\n",
    "\n",
    "#Create a list of the unique characters in the dataset\n",
    "chars = list(set(data))\n",
    "\n",
    "#Get size (in characters) of dataset\n",
    "data_size = len(data) \n",
    "\n",
    "#Get number of unique characters in dataset\n",
    "vocab_size = len(chars)\n",
    "\n",
    "#Print dataset properties\n",
    "print(\"Vocab size: \" + str(vocab_size))\n",
    "print(\"Data size: \" + str(data_size))\n",
    "print(\"Characters in data: \" + str(chars))"
   ]
  },
  {
   "cell_type": "code",
   "execution_count": 27,
   "metadata": {},
   "outputs": [
    {
     "name": "stdout",
     "output_type": "stream",
     "text": [
      "Array of unique characters:\n",
      "['7' 'l' '/' 'M' '2' 'p' ']' 's' '{' '+' '-' 'o' 'K' '@' 'H' '.' 'A' 'T'\n",
      " 't' 'Z' '3' 'c' '\\n' 'P' 'R' ')' '6' 'C' 'I' 'r' 'L' 'B' '5' '4' 'b' 'O'\n",
      " 'g' 'S' 'N' '8' 'e' 'V' 'a' 'u' '1' '(' '=' 'n' '[' '9' '\\\\' '#' 'i' 'F']\n",
      "Array of labels for each character:\n",
      "[14 45  7 27  9 48 38 50 53  4  5 47 25 18 23  6 19 33 51 35 10 41  0 30\n",
      " 31  3 13 21 24 49 26 20 12 11 40 29 43 32 28 15 42 34 39 52  8  2 17 46\n",
      " 36 16 37  1 44 22]\n",
      "Array of one-hot encoded characters:\n",
      "[[0. 0. 0. ... 0. 0. 0.]\n",
      " [0. 0. 0. ... 0. 0. 0.]\n",
      " [0. 0. 0. ... 0. 0. 0.]\n",
      " ...\n",
      " [0. 1. 0. ... 0. 0. 0.]\n",
      " [0. 0. 0. ... 0. 0. 0.]\n",
      " [0. 0. 0. ... 0. 0. 0.]]\n",
      "Size of array of one-hot encoded characters: (54, 54)\n"
     ]
    },
    {
     "name": "stderr",
     "output_type": "stream",
     "text": [
      "C:\\Users\\jake\\Anaconda3\\lib\\site-packages\\sklearn\\preprocessing\\_encoders.py:363: FutureWarning: The handling of integer data will change in version 0.22. Currently, the categories are determined based on the range [0, max(values)], while in the future they will be determined based on the unique values.\n",
      "If you want the future behaviour and silence this warning, you can specify \"categories='auto'\".\n",
      "In case you used a LabelEncoder before this OneHotEncoder to convert the categories to integers, then you can now use the OneHotEncoder directly.\n",
      "  warnings.warn(msg, FutureWarning)\n"
     ]
    }
   ],
   "source": [
    "import numpy as np\n",
    "from numpy import array\n",
    "from numpy import argmax\n",
    "from sklearn.preprocessing import LabelEncoder\n",
    "from sklearn.preprocessing import OneHotEncoder\n",
    "\n",
    "#Create array from characters in the dataset\n",
    "values = array(chars)\n",
    "print(\"Array of unique characters:\")\n",
    "print(values)\n",
    "\n",
    "#Create unique, numerical labels for each character between 0 and n-1, where n is the number of unique characters\n",
    "label_encoder = LabelEncoder()\n",
    "integer_encoded = label_encoder.fit_transform(values)\n",
    "print(\"Array of labels for each character:\")\n",
    "print(integer_encoded)\n",
    "\n",
    "#Encode characters into a one-hot encoding, resulting in an array of size [num unique chars, num unique chars]\n",
    "onehot_encoder = OneHotEncoder(sparse=False)\n",
    "integer_encoded = integer_encoded.reshape(len(integer_encoded), 1)\n",
    "onehot_encoded = onehot_encoder.fit_transform(integer_encoded)\n",
    "print(\"Array of one-hot encoded characters:\")\n",
    "print(onehot_encoded)\n",
    "print(\"Size of array of one-hot encoded characters: \" + str(onehot_encoded.shape))"
   ]
  },
  {
   "cell_type": "code",
   "execution_count": 38,
   "metadata": {},
   "outputs": [
    {
     "name": "stdout",
     "output_type": "stream",
     "text": [
      "Size of one-hot encoded array of data: (21981771, 54)\n",
      "One-hot encoded array of data:\n",
      "[[0 0 0 ... 0 0 1]\n",
      " [0 0 0 ... 0 0 0]\n",
      " [0 0 0 ... 0 0 0]\n",
      " ...\n",
      " [0 0 0 ... 0 0 0]\n",
      " [0 0 0 ... 0 0 0]\n",
      " [1 0 0 ... 0 0 0]]\n"
     ]
    }
   ],
   "source": [
    "#Read in processed data file\n",
    "data = open(\"SMILES.txt\", \"r\").read()\n",
    "\n",
    "#Create a list of the dataset\n",
    "datalist = list(data)\n",
    "\n",
    "#Create an array of the dataset\n",
    "dataarray = array(datalist)\n",
    "\n",
    "#Fit one-hot encoding to dataarray\n",
    "dataarray = dataarray.reshape(len(dataarray), 1)\n",
    "OHESMILES = onehot_encoder.fit_transform(dataarray).astype(int)\n",
    "print(\"Size of one-hot encoded array of data: \" + str(OHESMILES.shape))\n",
    "print(\"One-hot encoded array of data:\")\n",
    "print(OHESMILES)"
   ]
  },
  {
   "cell_type": "code",
   "execution_count": 41,
   "metadata": {},
   "outputs": [],
   "source": [
    "#Save OHESMILES as a (compressed) file\n",
    "np.savez_compressed(\"OHESMILES.npz\", OHESMILES)"
   ]
  }
 ],
 "metadata": {
  "kernelspec": {
   "display_name": "Python 3",
   "language": "python",
   "name": "python3"
  },
  "language_info": {
   "codemirror_mode": {
    "name": "ipython",
    "version": 3
   },
   "file_extension": ".py",
   "mimetype": "text/x-python",
   "name": "python",
   "nbconvert_exporter": "python",
   "pygments_lexer": "ipython3",
   "version": "3.5.6"
  }
 },
 "nbformat": 4,
 "nbformat_minor": 2
}
