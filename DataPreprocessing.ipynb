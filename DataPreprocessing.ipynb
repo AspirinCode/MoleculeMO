{
 "cells": [
  {
   "cell_type": "code",
   "execution_count": 1,
   "metadata": {
    "scrolled": true
   },
   "outputs": [],
   "source": [
    "import hashlib\n",
    "import numpy as np\n",
    "from numpy import array\n",
    "\n",
    "completed_lines_hash = set()\n",
    "\n",
    "completed_lines_hash = set()\n",
    "\n",
    "#Save processed data to smilespad.txt\n",
    "new = open(\"smilespad1.txt\", \"w\")\n",
    "\n",
    "#Read in data file line by line\n",
    "for line in open(\"data.txt\", \"r\"):\n",
    "  \n",
    "    #Ensure all smiles in original data file are unique\n",
    "    hashValue = hashlib.md5(line.rstrip().encode('utf-8')).hexdigest()\n",
    "  \n",
    "    if hashValue not in completed_lines_hash:\n",
    "        completed_lines_hash.add(hashValue)\n",
    "        \n",
    "        #Ensure all SMILES are between 35 and 75 characters in length\n",
    "        if 34 < len(line) < 75:\n",
    "            #Add start token \"{\"\n",
    "            line = line.rjust(len(line)+1, \"{\")\n",
    "            \n",
    "            #Replace \\n character with \"E\"\n",
    "            line = line.replace(\"\\n\", \"E\")\n",
    "            \n",
    "            #Add padding character \"}\" at end\n",
    "            line = line.ljust(76, \"}\")\n",
    "            \n",
    "            line = line + \"\\n\"\n",
    "            \n",
    "            #Copy over SMILES satisfying requirements\n",
    "            new.write(line)\n",
    "    \n",
    "#Close files\n",
    "new.close()"
   ]
  },
  {
   "cell_type": "code",
   "execution_count": 2,
   "metadata": {},
   "outputs": [
    {
     "name": "stdout",
     "output_type": "stream",
     "text": [
      "Vocab size: 54\n",
      "Data size: 36593696\n",
      "Characters in data: ['c', 'a', ')', 'p', '=', '4', '[', ']', '+', '#', 't', '1', 'M', '{', 's', 'b', '\\\\', '.', '7', 'B', 'C', 'Z', '8', '/', '2', 'K', 'g', 'I', 'V', 'e', 'T', 'A', 'S', 'H', 'L', 'i', '@', 'E', '9', 'o', '}', 'r', '(', 'F', '-', 'N', 'n', 'l', '5', 'P', 'R', '3', 'O', '6']\n"
     ]
    }
   ],
   "source": [
    "#Read in processed data file\n",
    "data = open(\"smilespad.txt\", \"r\").read()\n",
    "\n",
    "#Create a list of the unique characters in the dataset\n",
    "chars = list(set(data))\n",
    "\n",
    "#Get size (in characters) of dataset\n",
    "data_size = len(data) \n",
    "\n",
    "#Get number of unique characters in dataset\n",
    "vocab_size = len(chars)\n",
    "\n",
    "#Print dataset properties\n",
    "print(\"Vocab size: \" + str(vocab_size))\n",
    "print(\"Data size: \" + str(data_size))\n",
    "print(\"Characters in data: \" + str(chars))"
   ]
  },
  {
   "cell_type": "code",
   "execution_count": 3,
   "metadata": {},
   "outputs": [
    {
     "name": "stdout",
     "output_type": "stream",
     "text": [
      "Array of unique characters:\n",
      "['c' 'a' ')' 'p' '=' '4' '[' ']' '+' '#' 't' '1' 'M' '{' 's' 'b' '\\\\' '.'\n",
      " '7' 'B' 'C' 'Z' '8' '/' '2' 'K' 'g' 'I' 'V' 'e' 'T' 'A' 'S' 'H' 'L' 'i'\n",
      " '@' 'E' '9' 'o' '}' 'r' '(' 'F' '-' 'N' 'n' 'l' '5' 'P' 'R' '3' 'O' '6']\n",
      "Array of labels for each character:\n",
      "[41 39  2 48 16 10 36 38  3  0 51  7 27 52 50 40 37  5 13 19 20 35 14  6\n",
      "  8 25 43 24 34 42 33 18 32 23 26 44 17 21 15 47 53 49  1 22  4 28 46 45\n",
      " 11 30 31  9 29 12]\n",
      "Array of one-hot encoded characters:\n",
      "[[0. 0. 0. ... 0. 0. 0.]\n",
      " [0. 0. 0. ... 0. 0. 0.]\n",
      " [0. 0. 1. ... 0. 0. 0.]\n",
      " ...\n",
      " [0. 0. 0. ... 0. 0. 0.]\n",
      " [0. 0. 0. ... 0. 0. 0.]\n",
      " [0. 0. 0. ... 0. 0. 0.]]\n",
      "Size of array of one-hot encoded characters: (54, 54)\n"
     ]
    },
    {
     "name": "stderr",
     "output_type": "stream",
     "text": [
      "C:\\Users\\jake\\AppData\\Local\\Continuum\\anaconda3\\lib\\site-packages\\sklearn\\preprocessing\\_encoders.py:368: FutureWarning: The handling of integer data will change in version 0.22. Currently, the categories are determined based on the range [0, max(values)], while in the future they will be determined based on the unique values.\n",
      "If you want the future behaviour and silence this warning, you can specify \"categories='auto'\".\n",
      "In case you used a LabelEncoder before this OneHotEncoder to convert the categories to integers, then you can now use the OneHotEncoder directly.\n",
      "  warnings.warn(msg, FutureWarning)\n"
     ]
    }
   ],
   "source": [
    "from numpy import argmax\n",
    "from sklearn.preprocessing import LabelEncoder\n",
    "from sklearn.preprocessing import OneHotEncoder\n",
    "\n",
    "#Create array from characters in the dataset\n",
    "values = array(chars)\n",
    "print(\"Array of unique characters:\")\n",
    "print(values)\n",
    "\n",
    "#Create unique, numerical labels for each character between 0 and n-1, where n is the number of unique characters\n",
    "label_encoder = LabelEncoder()\n",
    "integer_encoded = label_encoder.fit_transform(values)\n",
    "print(\"Array of labels for each character:\")\n",
    "print(integer_encoded)\n",
    "\n",
    "#Encode characters into a one-hot encoding, resulting in an array of size [num unique chars, num unique chars]\n",
    "onehot_encoder = OneHotEncoder(sparse=False)\n",
    "integer_encoded = integer_encoded.reshape(len(integer_encoded), 1)\n",
    "onehot_encoded = onehot_encoder.fit_transform(integer_encoded)\n",
    "print(\"Array of one-hot encoded characters:\")\n",
    "print(onehot_encoded)\n",
    "print(\"Size of array of one-hot encoded characters: \" + str(onehot_encoded.shape))"
   ]
  },
  {
   "cell_type": "code",
   "execution_count": 4,
   "metadata": {},
   "outputs": [
    {
     "name": "stdout",
     "output_type": "stream",
     "text": [
      "Size of one-hot encoded array of data: (36593696, 54)\n",
      "One-hot encoded array of data:\n",
      "[[0 0 0 ... 0 1 0]\n",
      " [0 0 0 ... 0 0 0]\n",
      " [0 0 0 ... 0 0 0]\n",
      " ...\n",
      " [0 0 0 ... 0 0 1]\n",
      " [0 0 0 ... 0 0 1]\n",
      " [0 0 0 ... 0 0 1]]\n"
     ]
    }
   ],
   "source": [
    "#Read in processed data file\n",
    "data = open(\"smilespad.txt\", \"r\").read()\n",
    "#Create a list of the dataset\n",
    "datalist = list(data)\n",
    "#Create an array of the dataset\n",
    "dataarray = array(datalist)\n",
    "#Fit one-hot encoding to dataarray\n",
    "dataarray = dataarray.reshape(len(dataarray), 1)\n",
    "OHESMILES = onehot_encoder.fit_transform(dataarray).astype(int)\n",
    "print(\"Size of one-hot encoded array of data: \" + str(OHESMILES.shape))\n",
    "print(\"One-hot encoded array of data:\")\n",
    "print(OHESMILES)"
   ]
  },
  {
   "cell_type": "code",
   "execution_count": 5,
   "metadata": {},
   "outputs": [],
   "source": [
    "#Save OHESMILES as a (compressed) file\n",
    "np.savez_compressed(\"ohesmilespad.npz\", OHESMILES)"
   ]
  },
  {
   "cell_type": "code",
   "execution_count": 6,
   "metadata": {},
   "outputs": [],
   "source": [
    "#Create integer SMILES data\n",
    "INTSMILES = [np.where(r==1)[0][0] for r in OHESMILES]"
   ]
  },
  {
   "cell_type": "code",
   "execution_count": 7,
   "metadata": {},
   "outputs": [],
   "source": [
    "#Save INTSMILES as a (compressed) file\n",
    "np.savez_compressed(\"intsmilespad.npz\", INTSMILES)"
   ]
  },
  {
   "cell_type": "code",
   "execution_count": 8,
   "metadata": {},
   "outputs": [
    {
     "name": "stdout",
     "output_type": "stream",
     "text": [
      "(54, 56)\n"
     ]
    }
   ],
   "source": [
    "#Save array with SMILES character, integer encoding, and one hot encoding (vocabulary)\n",
    "values = np.reshape(values, (np.shape(values)[0], 1))\n",
    "vocab = np.concatenate((values, integer_encoded.astype(object)), axis = 1)\n",
    "vocab = vocab[vocab[:,1].argsort()]\n",
    "vocabvalues = np.reshape(vocab[:,1], (-1,1))\n",
    "vocabohe = onehot_encoder.fit_transform(vocabvalues)\n",
    "vocabencodings = np.concatenate((vocab, vocabohe.astype(object)), axis = 1)\n",
    "print(np.shape(vocabencodings))\n",
    "\n",
    "np.save(\"vocabpad.npy\", vocabencodings)"
   ]
  },
  {
   "cell_type": "code",
   "execution_count": 9,
   "metadata": {},
   "outputs": [
    {
     "name": "stdout",
     "output_type": "stream",
     "text": [
      "[['#' 0 1.0 ... 0.0 0.0 0.0]\n",
      " ['(' 1 0.0 ... 0.0 0.0 0.0]\n",
      " [')' 2 0.0 ... 0.0 0.0 0.0]\n",
      " ...\n",
      " ['t' 51 0.0 ... 1.0 0.0 0.0]\n",
      " ['{' 52 0.0 ... 0.0 1.0 0.0]\n",
      " ['}' 53 0.0 ... 0.0 0.0 1.0]]\n"
     ]
    }
   ],
   "source": [
    "print(vocabencodings)"
   ]
  },
  {
   "cell_type": "code",
   "execution_count": null,
   "metadata": {},
   "outputs": [],
   "source": []
  }
 ],
 "metadata": {
  "kernelspec": {
   "display_name": "Python 3",
   "language": "python",
   "name": "python3"
  },
  "language_info": {
   "codemirror_mode": {
    "name": "ipython",
    "version": 3
   },
   "file_extension": ".py",
   "mimetype": "text/x-python",
   "name": "python",
   "nbconvert_exporter": "python",
   "pygments_lexer": "ipython3",
   "version": "3.6.8"
  }
 },
 "nbformat": 4,
 "nbformat_minor": 2
}
