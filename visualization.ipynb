{
 "cells": [
  {
   "cell_type": "code",
   "execution_count": 1,
   "metadata": {},
   "outputs": [
    {
     "data": {
      "text/plain": [
       "<Figure size 640x480 with 1 Axes>"
      ]
     },
     "metadata": {},
     "output_type": "display_data"
    }
   ],
   "source": [
    "import numpy as np\n",
    "import rdkit as rd\n",
    "from rdkit import Chem\n",
    "from rdkit.Chem import AllChem\n",
    "from rdkit.Chem import Descriptors\n",
    "from rdkit.DataStructs.cDataStructs import TanimotoSimilarity\n",
    "\n",
    "#Determines LogP\n",
    "def logP(smiles):\n",
    "    \n",
    "    return(Descriptors.MolLogP(Chem.MolFromSmiles(smiles)))\n",
    "\n",
    "#Determines molecular weight\n",
    "def molWt(smiles):\n",
    "    \n",
    "    return(Descriptors.MolWt(Chem.MolFromSmiles(smiles)))\n",
    "\n",
    "#Determine number hydrogen bond acceptors\n",
    "def numAcc(smiles):\n",
    "    \n",
    "    return(Descriptors.NumHAcceptors(Chem.MolFromSmiles(smiles)))\n",
    "\n",
    "#Determine number hydrogen bond donors\n",
    "def numDon(smiles):\n",
    "    \n",
    "    return(Descriptors.NumHDonors(Chem.MolFromSmiles(smiles)))\n",
    "\n",
    "#Determine polar surface area\n",
    "def polSur(smiles):\n",
    "    \n",
    "    return(Descriptors.TPSA(Chem.MolFromSmiles(smiles)))\n",
    "\n",
    "#Determine number of rotatable bonds\n",
    "def rolBon(smiles):\n",
    "    return(Descriptors.NumRotatableBonds(Chem.MolFromSmiles(smiles)))\n",
    "\n",
    "molProps = np.empty((0,5))\n",
    "i = 0 \n",
    "#Read in data file line by line\n",
    "for molecule in open(\"smiles.txt\", \"r\"):\n",
    "    if i < 10000:\n",
    "        molecule = molecule.replace(\"G\", \"\")\n",
    "        try:\n",
    "            #Array of properties [partition coefficient, molecular weight, number of hydrogen bond acceptors, number of hydrogen bond donors, polar surface area]\n",
    "            props = np.reshape(np.array([logP(molecule), molWt(molecule), numAcc(molecule), numDon(molecule), rolBon(molecule)]), (1, 5))\n",
    "            #Append properties\n",
    "            molProps = np.append(molProps, props, axis=0)\n",
    "        \n",
    "        except:\n",
    "            #Occasionally RDKit bugs don't allow for analyzing the molecule; in these cases, simply remove the molecule\n",
    "            molecule.replace(molecule, \"\")\n",
    "            continue\n",
    "        i += 1\n",
    "    else:\n",
    "        break\n",
    "\n",
    "molProps1 = np.empty((0,5))\n",
    "#Read in data file line by line\n",
    "for line in open(\"generatedmols.txt\", \"r\"):\n",
    "    try:\n",
    "        #Array of properties [partition coefficient, molecular weight, number of hydrogen bond acceptors, number of hydrogen bond donors, number of rotatable bonds]\n",
    "        props1 = np.reshape(np.array([logP(line), molWt(line), numAcc(line), numDon(line), rolBon(line)]), (1, 5))\n",
    "        #Append properties\n",
    "        molProps1 = np.append(molProps1, props1, axis=0)\n",
    "        \n",
    "    except:\n",
    "        #Occasionally RDKit bugs don't allow for analyzing the molecule; in these cases, simply remove the molecule\n",
    "        line.replace(line, \"\")\n",
    "        continue\n",
    "    \n",
    "#PCA visualization\n",
    "from sklearn.preprocessing import StandardScaler \n",
    "from sklearn.decomposition import PCA\n",
    "printmols = np.concatenate((molProps, molProps1), axis=0)\n",
    "#Scale array of properties for all molecules\n",
    "scaledProps = StandardScaler().fit_transform(printmols)\n",
    "\n",
    "#Apply PCA\n",
    "pca = PCA(n_components=2)\n",
    "principalComponents = pca.fit_transform(scaledProps)\n",
    "#Graph\n",
    "import matplotlib.pyplot as plt\n",
    "\n",
    "fig = plt.figure()\n",
    "plt.scatter(principalComponents[0:np.shape(molProps)[0],0],principalComponents[0:np.shape(molProps)[0],1], color = \"#293352\")\n",
    "plt.scatter(principalComponents[np.shape(molProps)[0]:,0],principalComponents[np.shape(molProps)[0]:,1], color = \"#A51C30\")\n",
    "plt.show(fig)"
   ]
  },
  {
   "cell_type": "code",
   "execution_count": 3,
   "metadata": {},
   "outputs": [],
   "source": [
    "fig.savefig(\"trainingdatamolprops.png\", dpi=600)"
   ]
  },
  {
   "cell_type": "code",
   "execution_count": 2,
   "metadata": {},
   "outputs": [
    {
     "data": {
      "image/png": "[encoded data removed]",
      "text/plain": [
       "<Figure size 432x288 with 1 Axes>"
      ]
     },
     "metadata": {},
     "output_type": "display_data"
    }
   ],
   "source": [
    "#import matplotlib.pyplot as plt\n",
    "#import numpy as np\n",
    "import pandas as pd\n",
    "import seaborn as sns\n",
    "sns.set(style=\"whitegrid\")\n",
    "\n",
    "pandaprops = pd.DataFrame(molProps[:,0])\n",
    "pandaprops1 = pd.DataFrame(molProps1[:,0])\n",
    "pandalogp = pd.concat([pandaprops,pandaprops1], ignore_index=True, axis=1)\n",
    "pandalogp.columns = [\"Training Data\", \"Generated\"]\n",
    "\n",
    "molpropslogp = sns.boxplot(data=pandalogp, showfliers=False, width = .2, palette=[\"#293352\", \"#A51C30\"]);\n",
    "fig = molpropslogp.get_figure()\n",
    "#molProps is the training data\n",
    "#molProps1 is the generated molecules\n",
    "\n",
    "fig.savefig(\"traingenbox.png\", dpi=600)"
   ]
  },
  {
   "cell_type": "code",
   "execution_count": 3,
   "metadata": {},
   "outputs": [],
   "source": [
    "molProps1 = np.empty((0,5))\n",
    "#Read in data file line by line\n",
    "for line in open(\"generatedmols.txt\", \"r\"):\n",
    "    try:\n",
    "        #Array of properties [partition coefficient, molecular weight, number of hydrogen bond acceptors, number of hydrogen bond donors, number of rotatable bonds]\n",
    "        props1 = np.reshape(np.array([logP(line), molWt(line), numAcc(line), numDon(line), rolBon(line)]), (1, 5))\n",
    "        #Append properties\n",
    "        molProps1 = np.append(molProps1, props1, axis=0)\n",
    "        \n",
    "    except:\n",
    "        #Occasionally RDKit bugs don't allow for analyzing the molecule; in these cases, simply remove the molecule\n",
    "        line.replace(line, \"\")\n",
    "        continue\n",
    "        \n",
    "molProps2 = np.empty((0,5))\n",
    "#Read in data file line by line\n",
    "for line in open(\"1generatedmols.txt\", \"r\"):\n",
    "    try:\n",
    "        #Array of properties [partition coefficient, molecular weight, number of hydrogen bond acceptors, number of hydrogen bond donors, number of rotatable bonds]\n",
    "        props2 = np.reshape(np.array([logP(line), molWt(line), numAcc(line), numDon(line), rolBon(line)]), (1, 5))\n",
    "        #Append properties\n",
    "        molProps2 = np.append(molProps2, props2, axis=0)\n",
    "        \n",
    "    except:\n",
    "        #Occasionally RDKit bugs don't allow for analyzing the molecule; in these cases, simply remove the molecule\n",
    "        line.replace(line, \"\")\n",
    "        continue\n",
    "        \n",
    "molProps3 = np.empty((0,5))\n",
    "#Read in data file line by line\n",
    "for line in open(\"2generatedmols.txt\", \"r\"):\n",
    "    try:\n",
    "        #Array of properties [partition coefficient, molecular weight, number of hydrogen bond acceptors, number of hydrogen bond donors, number of rotatable bonds]\n",
    "        props3 = np.reshape(np.array([logP(line), molWt(line), numAcc(line), numDon(line), rolBon(line)]), (1, 5))\n",
    "        #Append properties\n",
    "        molProps3 = np.append(molProps3, props3, axis=0)\n",
    "        \n",
    "    except:\n",
    "        #Occasionally RDKit bugs don't allow for analyzing the molecule; in these cases, simply remove the molecule\n",
    "        line.replace(line, \"\")\n",
    "        continue\n",
    "\n",
    "molProps4 = np.empty((0,5))\n",
    "#Read in data file line by line\n",
    "for line in open(\"3generatedmols.txt\", \"r\"):\n",
    "    try:\n",
    "        #Array of properties [partition coefficient, molecular weight, number of hydrogen bond acceptors, number of hydrogen bond donors, number of rotatable bonds]\n",
    "        props4 = np.reshape(np.array([logP(line), molWt(line), numAcc(line), numDon(line), rolBon(line)]), (1, 5))\n",
    "        #Append properties\n",
    "        molProps4 = np.append(molProps4, props4, axis=0)\n",
    "        \n",
    "    except:\n",
    "        #Occasionally RDKit bugs don't allow for analyzing the molecule; in these cases, simply remove the molecule\n",
    "        line.replace(line, \"\")\n",
    "        continue\n",
    "        \n",
    "molProps5 = np.empty((0,5))\n",
    "#Read in data file line by line\n",
    "for line in open(\"4generatedmols.txt\", \"r\"):\n",
    "    try:\n",
    "        #Array of properties [partition coefficient, molecular weight, number of hydrogen bond acceptors, number of hydrogen bond donors, number of rotatable bonds]\n",
    "        props5 = np.reshape(np.array([logP(line), molWt(line), numAcc(line), numDon(line), rolBon(line)]), (1, 5))\n",
    "        #Append properties\n",
    "        molProps5 = np.append(molProps5, props5, axis=0)\n",
    "        \n",
    "    except:\n",
    "        #Occasionally RDKit bugs don't allow for analyzing the molecule; in these cases, simply remove the molecule\n",
    "        line.replace(line, \"\")\n",
    "        continue"
   ]
  },
  {
   "cell_type": "code",
   "execution_count": 4,
   "metadata": {},
   "outputs": [
    {
     "name": "stdout",
     "output_type": "stream",
     "text": [
      "(3065, 5)\n",
      "(1218, 5)\n",
      "(5588, 5)\n",
      "(2097, 5)\n",
      "(1641, 5)\n"
     ]
    }
   ],
   "source": [
    "print(np.shape(molProps1))\n",
    "print(np.shape(molProps2))\n",
    "print(np.shape(molProps3))\n",
    "print(np.shape(molProps4))\n",
    "print(np.shape(molProps5))"
   ]
  },
  {
   "cell_type": "code",
   "execution_count": 5,
   "metadata": {},
   "outputs": [],
   "source": [
    "satisfies1= np.empty((0,5))\n",
    "for i in range(np.shape(molProps1)[0]):\n",
    "    satlogp = 0\n",
    "    satmolwt = 0\n",
    "    satacc = 0\n",
    "    satdon = 0\n",
    "    satbon = 0\n",
    "    \n",
    "    if molProps1[i,0] <= 3: \n",
    "        satlogp += 1\n",
    "    if molProps1[i,1] <= 480: \n",
    "        satmolwt += 1\n",
    "    if molProps1[i,2] <= 3: \n",
    "        satacc += 1\n",
    "    if molProps1[i,3] <= 3: \n",
    "        satdon += 1\n",
    "    if molProps1[i,4] <= 3: \n",
    "        satbon += 1\n",
    "    \n",
    "    satisfy = np.reshape(np.array([satlogp, satmolwt, satacc, satdon, satbon]), (1, 5))\n",
    "    satisfies1 = np.append(satisfies1, satisfy, axis=0)"
   ]
  },
  {
   "cell_type": "code",
   "execution_count": 6,
   "metadata": {},
   "outputs": [],
   "source": [
    "satisfies2= np.empty((0,5))\n",
    "for i in range(np.shape(molProps2)[0]):\n",
    "    satlogp = 0\n",
    "    satmolwt = 0\n",
    "    satacc = 0\n",
    "    satdon = 0\n",
    "    satbon = 0\n",
    "    \n",
    "    if molProps2[i,0] <= 3: \n",
    "        satlogp += 1\n",
    "    if molProps2[i,1] <= 480: \n",
    "        satmolwt += 1\n",
    "    if molProps2[i,2] <= 3: \n",
    "        satacc += 1\n",
    "    if molProps2[i,3] <= 3: \n",
    "        satdon += 1\n",
    "    if molProps2[i,4] <= 3: \n",
    "        satbon += 1\n",
    "    \n",
    "    satisfy = np.reshape(np.array([satlogp, satmolwt, satacc, satdon, satbon]), (1, 5))\n",
    "    satisfies2 = np.append(satisfies2, satisfy, axis=0)"
   ]
  },
  {
   "cell_type": "code",
   "execution_count": 7,
   "metadata": {},
   "outputs": [],
   "source": [
    "satisfies3= np.empty((0,5))\n",
    "for i in range(np.shape(molProps3)[0]):\n",
    "    satlogp = 0\n",
    "    satmolwt = 0\n",
    "    satacc = 0\n",
    "    satdon = 0\n",
    "    satbon = 0\n",
    "    \n",
    "    if molProps3[i,0] <= 3: \n",
    "        satlogp += 1\n",
    "    if molProps3[i,1] <= 480: \n",
    "        satmolwt += 1\n",
    "    if molProps3[i,2] <= 3: \n",
    "        satacc += 1\n",
    "    if molProps3[i,3] <= 3: \n",
    "        satdon += 1\n",
    "    if molProps3[i,4] <= 3: \n",
    "        satbon += 1\n",
    "    \n",
    "    satisfy = np.reshape(np.array([satlogp, satmolwt, satacc, satdon, satbon]), (1, 5))\n",
    "    satisfies3 = np.append(satisfies3, satisfy, axis=0)"
   ]
  },
  {
   "cell_type": "code",
   "execution_count": 8,
   "metadata": {},
   "outputs": [],
   "source": [
    "satisfies4 = np.empty((0,5))\n",
    "for i in range(np.shape(molProps4)[0]):\n",
    "    satlogp = 0\n",
    "    satmolwt = 0\n",
    "    satacc = 0\n",
    "    satdon = 0\n",
    "    satbon = 0\n",
    "    \n",
    "    if molProps4[i,0] <= 3: \n",
    "        satlogp += 1\n",
    "    if molProps4[i,1] <= 480: \n",
    "        satmolwt += 1\n",
    "    if molProps4[i,2] <= 3: \n",
    "        satacc += 1\n",
    "    if molProps4[i,3] <= 3: \n",
    "        satdon += 1\n",
    "    if molProps4[i,4] <= 3: \n",
    "        satbon += 1\n",
    "    \n",
    "    satisfy = np.reshape(np.array([satlogp, satmolwt, satacc, satdon, satbon]), (1, 5))\n",
    "    satisfies4 = np.append(satisfies4, satisfy, axis=0)"
   ]
  },
  {
   "cell_type": "code",
   "execution_count": 9,
   "metadata": {},
   "outputs": [],
   "source": [
    "satisfies5 = np.empty((0,5))\n",
    "for i in range(np.shape(molProps5)[0]):\n",
    "    satlogp = 0\n",
    "    satmolwt = 0\n",
    "    satacc = 0\n",
    "    satdon = 0\n",
    "    satbon = 0\n",
    "    \n",
    "    if molProps5[i,0] <= 3: \n",
    "        satlogp += 1\n",
    "    if molProps5[i,1] <= 480: \n",
    "        satmolwt += 1\n",
    "    if molProps5[i,2] <= 3: \n",
    "        satacc += 1\n",
    "    if molProps5[i,3] <= 3: \n",
    "        satdon += 1\n",
    "    if molProps5[i,4] <= 3: \n",
    "        satbon += 1\n",
    "    \n",
    "    satisfy = np.reshape(np.array([satlogp, satmolwt, satacc, satdon, satbon]), (1, 5))\n",
    "    satisfies5 = np.append(satisfies5, satisfy, axis=0)"
   ]
  },
  {
   "cell_type": "code",
   "execution_count": 10,
   "metadata": {},
   "outputs": [],
   "source": [
    "percentgood = np.empty((0,5))"
   ]
  },
  {
   "cell_type": "code",
   "execution_count": 11,
   "metadata": {},
   "outputs": [
    {
     "name": "stdout",
     "output_type": "stream",
     "text": [
      "[[96.18270799 77.06362153 42.80587276 11.38662316  1.40293638]]\n"
     ]
    }
   ],
   "source": [
    "good1 = 0\n",
    "good2 = 0\n",
    "good3 = 0\n",
    "good4 = 0\n",
    "good5 = 0\n",
    "\n",
    "for i in range(np.shape(satisfies1)[0]):\n",
    "    if np.sum(satisfies1[i,:]) >= 1:\n",
    "        good1 += 1\n",
    "    if np.sum(satisfies1[i,:]) >= 2:\n",
    "        good2 += 1\n",
    "    if np.sum(satisfies1[i,:]) >= 3:\n",
    "        good3 += 1\n",
    "    if np.sum(satisfies1[i,:]) >= 4:\n",
    "        good4 += 1        \n",
    "    if np.sum(satisfies1[i,:]) >= 5:\n",
    "        good5 += 1        \n",
    "        \n",
    "percentgood1 = 100 * good1 / np.shape(satisfies1)[0]\n",
    "percentgood2 = 100 * good2 / np.shape(satisfies1)[0]\n",
    "percentgood3 = 100 * good3 / np.shape(satisfies1)[0]\n",
    "percentgood4 = 100 * good4 / np.shape(satisfies1)[0]\n",
    "percentgood5 = 100 * good5 / np.shape(satisfies1)[0]\n",
    "percentgood = np.append(percentgood, np.reshape(np.array([percentgood1, percentgood2, percentgood3, percentgood4, percentgood5]), (1,5)), axis = 0)\n",
    "print(percentgood)"
   ]
  },
  {
   "cell_type": "code",
   "execution_count": 12,
   "metadata": {},
   "outputs": [
    {
     "name": "stdout",
     "output_type": "stream",
     "text": [
      "[[96.18270799 77.06362153 42.80587276 11.38662316  1.40293638]\n",
      " [97.78325123 85.5500821  45.81280788 11.9047619   1.72413793]]\n"
     ]
    }
   ],
   "source": [
    "good1 = 0\n",
    "good2 = 0\n",
    "good3 = 0\n",
    "good4 = 0\n",
    "good5 = 0\n",
    "\n",
    "for i in range(np.shape(satisfies2)[0]):\n",
    "    if np.sum(satisfies2[i,:]) >= 1:\n",
    "        good1 += 1\n",
    "    if np.sum(satisfies2[i,:]) >= 2:\n",
    "        good2 += 1\n",
    "    if np.sum(satisfies2[i,:]) >= 3:\n",
    "        good3 += 1\n",
    "    if np.sum(satisfies2[i,:]) >= 4:\n",
    "        good4 += 1        \n",
    "    if np.sum(satisfies2[i,:]) >= 5:\n",
    "        good5 += 1        \n",
    "        \n",
    "percentgood1 = 100 * good1 / np.shape(satisfies2)[0]\n",
    "percentgood2 = 100 * good2 / np.shape(satisfies2)[0]\n",
    "percentgood3 = 100 * good3 / np.shape(satisfies2)[0]\n",
    "percentgood4 = 100 * good4 / np.shape(satisfies2)[0]\n",
    "percentgood5 = 100 * good5 / np.shape(satisfies2)[0]\n",
    "percentgood = np.append(percentgood, np.reshape(np.array([percentgood1, percentgood2, percentgood3, percentgood4, percentgood5]), (1,5)), axis = 0)\n",
    "print(percentgood)"
   ]
  },
  {
   "cell_type": "code",
   "execution_count": 13,
   "metadata": {},
   "outputs": [
    {
     "name": "stdout",
     "output_type": "stream",
     "text": [
      "[[96.18270799 77.06362153 42.80587276 11.38662316  1.40293638]\n",
      " [97.78325123 85.5500821  45.81280788 11.9047619   1.72413793]\n",
      " [99.57050823 88.81531854 58.78668576 19.61345741  4.00858984]]\n"
     ]
    }
   ],
   "source": [
    "good1 = 0\n",
    "good2 = 0\n",
    "good3 = 0\n",
    "good4 = 0\n",
    "good5 = 0\n",
    "\n",
    "for i in range(np.shape(satisfies3)[0]):\n",
    "    if np.sum(satisfies3[i,:]) >= 1:\n",
    "        good1 += 1\n",
    "    if np.sum(satisfies3[i,:]) >= 2:\n",
    "        good2 += 1\n",
    "    if np.sum(satisfies3[i,:]) >= 3:\n",
    "        good3 += 1\n",
    "    if np.sum(satisfies3[i,:]) >= 4:\n",
    "        good4 += 1        \n",
    "    if np.sum(satisfies3[i,:]) >= 5:\n",
    "        good5 += 1        \n",
    "        \n",
    "percentgood1 = 100 * good1 / np.shape(satisfies3)[0]\n",
    "percentgood2 = 100 * good2 / np.shape(satisfies3)[0]\n",
    "percentgood3 = 100 * good3 / np.shape(satisfies3)[0]\n",
    "percentgood4 = 100 * good4 / np.shape(satisfies3)[0]\n",
    "percentgood5 = 100 * good5 / np.shape(satisfies3)[0]\n",
    "percentgood = np.append(percentgood, np.reshape(np.array([percentgood1, percentgood2, percentgood3, percentgood4, percentgood5]), (1,5)), axis = 0)\n",
    "print(percentgood)"
   ]
  },
  {
   "cell_type": "code",
   "execution_count": 14,
   "metadata": {},
   "outputs": [
    {
     "name": "stdout",
     "output_type": "stream",
     "text": [
      "[[96.18270799 77.06362153 42.80587276 11.38662316  1.40293638]\n",
      " [97.78325123 85.5500821  45.81280788 11.9047619   1.72413793]\n",
      " [99.57050823 88.81531854 58.78668576 19.61345741  4.00858984]\n",
      " [98.85550787 86.45684311 53.02813543 18.74105866  3.81497377]]\n"
     ]
    }
   ],
   "source": [
    "good1 = 0\n",
    "good2 = 0\n",
    "good3 = 0\n",
    "good4 = 0\n",
    "good5 = 0\n",
    "\n",
    "for i in range(np.shape(satisfies4)[0]):\n",
    "    if np.sum(satisfies4[i,:]) >= 1:\n",
    "        good1 += 1\n",
    "    if np.sum(satisfies4[i,:]) >= 2:\n",
    "        good2 += 1\n",
    "    if np.sum(satisfies4[i,:]) >= 3:\n",
    "        good3 += 1\n",
    "    if np.sum(satisfies4[i,:]) >= 4:\n",
    "        good4 += 1        \n",
    "    if np.sum(satisfies4[i,:]) >= 5:\n",
    "        good5 += 1        \n",
    "        \n",
    "percentgood1 = 100 * good1 / np.shape(satisfies4)[0]\n",
    "percentgood2 = 100 * good2 / np.shape(satisfies4)[0]\n",
    "percentgood3 = 100 * good3 / np.shape(satisfies4)[0]\n",
    "percentgood4 = 100 * good4 / np.shape(satisfies4)[0]\n",
    "percentgood5 = 100 * good5 / np.shape(satisfies4)[0]\n",
    "percentgood = np.append(percentgood, np.reshape(np.array([percentgood1, percentgood2, percentgood3, percentgood4, percentgood5]), (1,5)), axis = 0)\n",
    "print(percentgood)"
   ]
  },
  {
   "cell_type": "code",
   "execution_count": 15,
   "metadata": {},
   "outputs": [
    {
     "name": "stdout",
     "output_type": "stream",
     "text": [
      "[[96.18270799 77.06362153 42.80587276 11.38662316  1.40293638]\n",
      " [97.78325123 85.5500821  45.81280788 11.9047619   1.72413793]\n",
      " [99.57050823 88.81531854 58.78668576 19.61345741  4.00858984]\n",
      " [98.85550787 86.45684311 53.02813543 18.74105866  3.81497377]\n",
      " [98.53747715 89.94515539 60.57282145 30.53016453  8.65326021]]\n"
     ]
    }
   ],
   "source": [
    "good1 = 0\n",
    "good2 = 0\n",
    "good3 = 0\n",
    "good4 = 0\n",
    "good5 = 0\n",
    "\n",
    "for i in range(np.shape(satisfies5)[0]):\n",
    "    if np.sum(satisfies5[i,:]) >= 1:\n",
    "        good1 += 1\n",
    "    if np.sum(satisfies5[i,:]) >= 2:\n",
    "        good2 += 1\n",
    "    if np.sum(satisfies5[i,:]) >= 3:\n",
    "        good3 += 1\n",
    "    if np.sum(satisfies5[i,:]) >= 4:\n",
    "        good4 += 1        \n",
    "    if np.sum(satisfies5[i,:]) >= 5:\n",
    "        good5 += 1        \n",
    "        \n",
    "percentgood1 = 100 * good1 / np.shape(satisfies5)[0]\n",
    "percentgood2 = 100 * good2 / np.shape(satisfies5)[0]\n",
    "percentgood3 = 100 * good3 / np.shape(satisfies5)[0]\n",
    "percentgood4 = 100 * good4 / np.shape(satisfies5)[0]\n",
    "percentgood5 = 100 * good5 / np.shape(satisfies5)[0]\n",
    "percentgood = np.append(percentgood, np.reshape(np.array([percentgood1, percentgood2, percentgood3, percentgood4, percentgood5]), (1,5)), axis = 0)\n",
    "print(percentgood)"
   ]
  },
  {
   "cell_type": "code",
   "execution_count": 16,
   "metadata": {},
   "outputs": [
    {
     "data": {
      "image/png": "[encoded data removed]",
      "text/plain": [
       "<Figure size 432x288 with 1 Axes>"
      ]
     },
     "metadata": {},
     "output_type": "display_data"
    }
   ],
   "source": [
    "pandagood1 = pd.DataFrame(percentgood[:,0])\n",
    "pandagood2 = pd.DataFrame(percentgood[:,1])\n",
    "pandagood3 = pd.DataFrame(percentgood[:,2])\n",
    "pandagood4 = pd.DataFrame(percentgood[:,3])\n",
    "pandagood5 = pd.DataFrame(percentgood[:,4])\n",
    "\n",
    "sns.set(style=\"white\")\n",
    "#percent generated molecules meeting at least 1 criteria\n",
    "ax = sns.lineplot(data = pandagood1, linewidth = 3, palette=[\"#A51C30\"], legend = False)\n",
    "#percent generated molecules meeting at least 2 criteria\n",
    "ax = sns.lineplot(data = pandagood2, linewidth = 3, palette=[\"#293352\"], legend = False)\n",
    "#percent generated molecules meeting at least 3 criteria\n",
    "ax = sns.lineplot(data = pandagood3, linewidth = 3, palette=[\"#52854C\"], legend = False)\n",
    "#percent generated molecules meeting at least 4 criteria\n",
    "ax = sns.lineplot(data = pandagood4, linewidth = 3, palette=[\"#D16103\"], legend = False)\n",
    "#percent generated molecules meeting at least 5 criteria\n",
    "ax = sns.lineplot(data = pandagood5, linewidth = 3, palette=[\"#8C8179\"], legend = False)"
   ]
  },
  {
   "cell_type": "code",
   "execution_count": null,
   "metadata": {},
   "outputs": [],
   "source": []
  },
  {
   "cell_type": "code",
   "execution_count": null,
   "metadata": {},
   "outputs": [],
   "source": []
  }
 ],
 "metadata": {
  "kernelspec": {
   "display_name": "Python 3",
   "language": "python",
   "name": "python3"
  },
  "language_info": {
   "codemirror_mode": {
    "name": "ipython",
    "version": 3
   },
   "file_extension": ".py",
   "mimetype": "text/x-python",
   "name": "python",
   "nbconvert_exporter": "python",
   "pygments_lexer": "ipython3",
   "version": "3.6.8"
  }
 },
 "nbformat": 4,
 "nbformat_minor": 2
}
